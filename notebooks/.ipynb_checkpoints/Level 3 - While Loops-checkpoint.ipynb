{
 "cells": [
  {
   "cell_type": "markdown",
   "metadata": {},
   "source": [
    "# Level 3 - While loops\n",
    "\n",
    "## `while` loops!\n",
    "\n",
    "Python's `while` loops can be very useful in web scraping.\n",
    "They allow us to continue down paths, following links, until a certain condition is met.\n",
    "Once that condition is met, we can stop web scraping and move on to the next step.\n",
    "\n",
    "The `condition` can really be anything you want it to be.\n",
    "Generally, you will continue until an element can't be found.\n",
    "\n",
    "Essentially: `while` element `x` exists, scrape the website and then move to the next.\n",
    "Once element `x` ceases to exist, exit out of the loop!\n",
    "\n",
    "To help practice this concept, we can use this function `generate_sequence` to simulate elements existing on a website!\n",
    "`generate_sequence` is a generator that will yield `True` a random number of times, and then yield `False` indefinitely."
   ]
  },
  {
   "cell_type": "code",
   "execution_count": null,
   "metadata": {},
   "outputs": [],
   "source": [
    "from utils import generate_sequence"
   ]
  },
  {
   "cell_type": "code",
   "execution_count": null,
   "metadata": {},
   "outputs": [],
   "source": [
    "sequence = generate_sequence()\n",
    "\n",
    "print(next(sequence))\n",
    "print(next(sequence))\n",
    "print(next(sequence))\n",
    "print(next(sequence))\n",
    "print(next(sequence))\n",
    "print(next(sequence))\n",
    "print(next(sequence))\n",
    "print(next(sequence))\n",
    "print(next(sequence))\n",
    "print(next(sequence))\n",
    "print(next(sequence))\n",
    "print(next(sequence))\n",
    "print(next(sequence))\n",
    "print(next(sequence))"
   ]
  },
  {
   "cell_type": "markdown",
   "metadata": {},
   "source": [
    "What if we **never** want to print any values that are `False`? \n",
    "Maybe we want to print `True` for every `True` element in the sequence, and then stop printing all together - break out of the loop."
   ]
  },
  {
   "cell_type": "code",
   "execution_count": null,
   "metadata": {},
   "outputs": [],
   "source": [
    "sequence = generate_sequence()\n",
    "\n",
    "while next(sequence):\n",
    "    print(True)"
   ]
  },
  {
   "cell_type": "markdown",
   "metadata": {},
   "source": [
    "Okay..\n",
    "That is great! \n",
    "But, how can we apply this knowledge towards what we know about websites?\n",
    "\n",
    "Well.. \n",
    "To help practice this concept, we can use this function `generate_html` to simulate consistently fetching HTML!\n",
    "`generate_html` is another generator that will yield a paragraph with text a random number of times, and then yield a paragraph _without text_ indefinitely."
   ]
  },
  {
   "cell_type": "code",
   "execution_count": null,
   "metadata": {},
   "outputs": [],
   "source": [
    "from utils import generate_html"
   ]
  },
  {
   "cell_type": "code",
   "execution_count": null,
   "metadata": {},
   "outputs": [],
   "source": [
    "html_elements = generate_html()\n",
    "\n",
    "print(next(html_elements))\n",
    "print(next(html_elements))\n",
    "print(next(html_elements))\n",
    "print(next(html_elements))\n",
    "print(next(html_elements))\n",
    "print(next(html_elements))\n",
    "print(next(html_elements))\n",
    "print(next(html_elements))\n",
    "print(next(html_elements))\n",
    "print(next(html_elements))\n",
    "print(next(html_elements))\n",
    "print(next(html_elements))\n",
    "print(next(html_elements))\n",
    "print(next(html_elements))"
   ]
  },
  {
   "cell_type": "markdown",
   "metadata": {},
   "source": [
    "Okay, now let's try to do the same thing as we did with `generate_sequence`!\n",
    "\n",
    "`While` the next HTML element contains text within the paragraph, print it!\n",
    "Once there is no more text within the paragraph..\n",
    "Break out of the loop!"
   ]
  },
  {
   "cell_type": "code",
   "execution_count": null,
   "metadata": {},
   "outputs": [],
   "source": [
    "# code here"
   ]
  }
 ],
 "metadata": {
  "kernelspec": {
   "display_name": "Python 3",
   "language": "python",
   "name": "python3"
  },
  "language_info": {
   "codemirror_mode": {
    "name": "ipython",
    "version": 3
   },
   "file_extension": ".py",
   "mimetype": "text/x-python",
   "name": "python",
   "nbconvert_exporter": "python",
   "pygments_lexer": "ipython3",
   "version": "3.8.3"
  }
 },
 "nbformat": 4,
 "nbformat_minor": 4
}
