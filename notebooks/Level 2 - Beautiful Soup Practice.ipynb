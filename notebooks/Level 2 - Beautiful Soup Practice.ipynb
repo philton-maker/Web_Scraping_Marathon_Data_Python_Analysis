{
 "cells": [
  {
   "cell_type": "markdown",
   "metadata": {},
   "source": [
    "# Level 2 - Beautiful Soup\n",
    "\n",
    "---\n",
    "\n",
    "# The Mission\n",
    "\n",
    "Your company `SpiderLegion` has just signed a contract with an Analytics Company called `DashItUp`.\n",
    "`DashItUp` is well known for it's dashboarding capabilities specializing in monitoring website metrics such as views, content shares, new users, and database errors!\n",
    "\n",
    "While dashboards are nice, `DashItUp` is now wanting to spend some time on a new `summarize` feature. \n",
    "`DashItUp` wants to run web crawlers against their dashboards to fetch the `key metrics` and print them off as a single report.\n",
    "\n",
    "## Key Metrics\n",
    "\n",
    "* User Count\n",
    "* Any _system errors_, how recent?\n",
    "    * System errors can be one of the following: `Database error`, `CPU overload`, or `Out of memory`\n",
    "* Bounce Rate\n",
    "* Top and bottom countries by utility\n",
    "* Most recent user names with links to their profiles\n",
    "* Name of the user that owns the dashboard\n",
    "\n",
    "`DashItUp` has _many_ websites that use the same template (they all look the same). \n",
    "They believe that if you can write a web crawler for one, they should be able to apply the same code to the other dashboards they own to get similar results.\n",
    "\n",
    "---"
   ]
  },
  {
   "cell_type": "markdown",
   "metadata": {},
   "source": [
    "## Fetch The Website Contents\n",
    "\n",
    "`DashItUp` was kind enough to give us a website to test against.\n",
    "The website content can be found in the `assets` folder called `website.html`.\n",
    "We already have some code that is responsible for opening that file, reading it, and saving the contents to a variable called `website_contents`.\n",
    "\n",
    "(Source HTML code is from the Analytics Template from the website https://www.w3schools.com/w3css/w3css_templates.asp)"
   ]
  },
  {
   "cell_type": "code",
   "execution_count": 1,
   "metadata": {
    "scrolled": true
   },
   "outputs": [
    {
     "data": {
      "text/plain": [
       "'<!DOCTYPE html>\\n<html>\\n<title>DashItUp, A Dashboard</title>\\n<meta charset=\"UTF-8\">\\n<meta name=\"viewport\" content=\"width=device-width, initial-scale=1\">\\n<link rel=\"stylesheet\" href=\"https://www.w3schools.com/w3css/4/w3.css\">\\n<link rel=\"stylesheet\" href=\"https://fonts.googleapis.com/css?family=Raleway\">\\n<link rel=\"stylesheet\" href=\"https://cdnjs.cloudflare.com/ajax/libs/font-awesome/4.7.0/css/font-awesome.min.css\">\\n<style>\\nhtml,body,h1,h2,h3,h4,h5 {font-family: \"Raleway\", sans-serif}\\n</style>\\n<body class=\"w3-light-grey\">\\n\\n<!-- Top container -->\\n<div class=\"w3-bar w3-top w3-black w3-large\" style=\"z-index:4\">\\n  <button class=\"w3-bar-item w3-button w3-hide-large w3-hover-none w3-hover-text-light-grey\" onclick=\"w3_open();\"><i class=\"fa fa-bars\"></i> \\xa0Menu</button>\\n  <span class=\"w3-bar-item w3-right\">Logo</span>\\n</div>\\n\\n<!-- Sidebar/menu -->\\n<nav class=\"w3-sidebar w3-collapse w3-white w3-animate-left\" style=\"z-index:3;width:300px;\" id=\"mySidebar\"><br>\\n  <div class=\"w3-container w3-row\">\\n    <div class=\"w3-col s4\">\\n      <img src=\"../assets/mike.png\" class=\"w3-circle w3-margin-right\" style=\"width:46px\">\\n    </div>\\n    <div class=\"w3-col s8 w3-bar da-welcomeMenu\">\\n      <span>Welcome, <strong>Mike</strong></span><br>\\n      <a href=\"#\" class=\"w3-bar-item w3-button\"><i class=\"fa fa-envelope\"></i></a>\\n      <a href=\"#\" class=\"w3-bar-item w3-button\"><i class=\"fa fa-user\"></i></a>\\n      <a href=\"#\" class=\"w3-bar-item w3-button\"><i class=\"fa fa-cog\"></i></a>\\n    </div>\\n  </div>\\n  <hr>\\n  <div class=\"w3-container\">\\n    <h5>Dashboard</h5>\\n  </div>\\n  <div class=\"w3-bar-block\">\\n    <a href=\"#\" class=\"w3-bar-item w3-button w3-padding-16 w3-hide-large w3-dark-grey w3-hover-black\" onclick=\"w3_close()\" title=\"close menu\"><i class=\"fa fa-remove fa-fw\"></i>\\xa0 Close Menu</a>\\n    <a href=\"#\" class=\"w3-bar-item w3-button w3-padding w3-blue\"><i class=\"fa fa-users fa-fw\"></i>\\xa0 Overview</a>\\n    <a href=\"#\" class=\"w3-bar-item w3-button w3-padding\"><i class=\"fa fa-eye fa-fw\"></i>\\xa0 Views</a>\\n    <a href=\"#\" class=\"w3-bar-item w3-button w3-padding\"><i class=\"fa fa-users fa-fw\"></i>\\xa0 Traffic</a>\\n    <a href=\"#\" class=\"w3-bar-item w3-button w3-padding\"><i class=\"fa fa-bullseye fa-fw\"></i>\\xa0 Geo</a>\\n    <a href=\"#\" class=\"w3-bar-item w3-button w3-padding\"><i class=\"fa fa-diamond fa-fw\"></i>\\xa0 Orders</a>\\n    <a href=\"#\" class=\"w3-bar-item w3-button w3-padding\"><i class=\"fa fa-bell fa-fw\"></i>\\xa0 News</a>\\n    <a href=\"#\" class=\"w3-bar-item w3-button w3-padding\"><i class=\"fa fa-bank fa-fw\"></i>\\xa0 General</a>\\n    <a href=\"#\" class=\"w3-bar-item w3-button w3-padding\"><i class=\"fa fa-history fa-fw\"></i>\\xa0 History</a>\\n    <a href=\"#\" class=\"w3-bar-item w3-button w3-padding\"><i class=\"fa fa-cog fa-fw\"></i>\\xa0 Settings</a><br><br>\\n  </div>\\n</nav>\\n\\n\\n<!-- Overlay effect when opening sidebar on small screens -->\\n<div class=\"w3-overlay w3-hide-large w3-animate-opacity\" onclick=\"w3_close()\" style=\"cursor:pointer\" title=\"close side menu\" id=\"myOverlay\"></div>\\n\\n<!-- !PAGE CONTENT! -->\\n<div class=\"w3-main\" style=\"margin-left:300px;margin-top:43px;\">\\n\\n  <!-- Header -->\\n  <header class=\"w3-container\" style=\"padding-top:22px\">\\n    <h5><b><i class=\"fa fa-dashboard\"></i> My Dashboard</b></h5>\\n  </header>\\n\\n  <div class=\"w3-row-padding w3-margin-bottom da-dashboardCards\">\\n    <div class=\"w3-quarter\">\\n      <div class=\"w3-container w3-red w3-padding-16\">\\n        <div class=\"w3-left\"><i class=\"fa fa-comment w3-xxxlarge\"></i></div>\\n        <div class=\"w3-right\">\\n          <h3 class=\"da-dashboardCardMetric\">52</h3>\\n        </div>\\n        <div class=\"w3-clear\"></div>\\n        <h4 class=\"da-dashboardCardLabel\">Messages</h4>\\n      </div>\\n    </div>\\n    <div class=\"w3-quarter\">\\n      <div class=\"w3-container w3-blue w3-padding-16\">\\n        <div class=\"w3-left\"><i class=\"fa fa-eye w3-xxxlarge\"></i></div>\\n        <div class=\"w3-right\">\\n          <h3 class=\"da-dashboardCardMetric\">99</h3>\\n        </div>\\n        <div class=\"w3-clear\"></div>\\n        <h4 class=\"da-dashboardCardLabel\">Views</h4>\\n      </div>\\n    </div>\\n    <div class=\"w3-quarter\">\\n      <div class=\"w3-container w3-teal w3-padding-16\">\\n        <div class=\"w3-left\"><i class=\"fa fa-share-alt w3-xxxlarge\"></i></div>\\n        <div class=\"w3-right\">\\n          <h3 class=\"da-dashboardCardMetric\">23</h3>\\n        </div>\\n        <div class=\"w3-clear\"></div>\\n        <h4 class=\"da-dashboardCardLabel\">Shares</h4>\\n      </div>\\n    </div>\\n    <div class=\"w3-quarter\">\\n      <div class=\"w3-container w3-orange w3-text-white w3-padding-16\">\\n        <div class=\"w3-left\"><i class=\"fa fa-users w3-xxxlarge\"></i></div>\\n        <div class=\"w3-right\">\\n          <h3 class=\"da-dashboardCardMetric\">50</h3>\\n        </div>\\n        <div class=\"w3-clear\"></div>\\n        <h4 class=\"da-dashboardCardLabel\">Users</h4>\\n      </div>\\n    </div>\\n  </div>\\n\\n  <div class=\"w3-panel\">\\n    <div class=\"w3-row-padding\" style=\"margin:0 -16px\">\\n      <div class=\"w3-third\">\\n        <h5>Regions</h5>\\n        <img src=\"../assets/regions.jpg\" style=\"width:100%\" alt=\"Google Regional Map\">\\n      </div>\\n      <div class=\"w3-twothird da-feeds\">\\n        <h5>Feeds</h5>\\n        <table class=\"w3-table w3-striped w3-white\">\\n          <tr>\\n            <td><i class=\"fa fa-user w3-text-blue w3-large\"></i></td>\\n            <td>New record, over 90 views.</td>\\n            <td><i>10 mins</i></td>\\n          </tr>\\n          <tr>\\n            <td><i class=\"fa fa-bell w3-text-red w3-large\"></i></td>\\n            <td>Database error.</td>\\n            <td><i>15 mins</i></td>\\n          </tr>\\n          <tr>\\n            <td><i class=\"fa fa-users w3-text-yellow w3-large\"></i></td>\\n            <td>New record, over 40 users.</td>\\n            <td><i>17 mins</i></td>\\n          </tr>\\n          <tr>\\n            <td><i class=\"fa fa-comment w3-text-red w3-large\"></i></td>\\n            <td>New comments.</td>\\n            <td><i>25 mins</i></td>\\n          </tr>\\n          <tr>\\n            <td><i class=\"fa fa-bookmark w3-text-blue w3-large\"></i></td>\\n            <td>Check transactions.</td>\\n            <td><i>28 mins</i></td>\\n          </tr>\\n          <tr>\\n            <td><i class=\"fa fa-laptop w3-text-red w3-large\"></i></td>\\n            <td>CPU overload.</td>\\n            <td><i>35 mins</i></td>\\n          </tr>\\n          <tr>\\n            <td><i class=\"fa fa-share-alt w3-text-green w3-large\"></i></td>\\n            <td>New shares.</td>\\n            <td><i>39 mins</i></td>\\n          </tr>\\n        </table>\\n      </div>\\n    </div>\\n  </div>\\n  <hr>\\n  <div class=\"w3-container\">\\n    <h5>General Stats</h5>\\n    <p>New Visitors</p>\\n    <div class=\"w3-grey\" id=\"da-newVisitorsStat\">\\n      <div class=\"w3-container w3-center w3-padding w3-green\" style=\"width:25%\">+25%</div>\\n    </div>\\n\\n    <p>New Users</p>\\n    <div class=\"w3-grey\" id=\"da-newUsersStat\">\\n      <div class=\"w3-container w3-center w3-padding w3-orange\" style=\"width:50%\">50%</div>\\n    </div>\\n\\n    <p>Bounce Rate</p>\\n    <div class=\"w3-grey\" id=\"da-bounceRateStat\">\\n      <div class=\"w3-container w3-center w3-padding w3-red\" style=\"width:75%\">75%</div>\\n    </div>\\n  </div>\\n  <hr>\\n\\n  <div class=\"w3-container da-countryUtility\">\\n    <h5>Countries</h5>\\n    <table class=\"w3-table w3-striped w3-bordered w3-border w3-hoverable w3-white\">\\n      <tr>\\n      \\t<th>Country</th>\\n      \\t<th>Utility</th>\\n      </tr>\\n      <tr>\\n        <td>France</td>\\n        <td>1.5%</td>\\n      </tr>\\n      <tr>\\n        <td>UK</td>\\n        <td>15.7%</td>\\n      </tr>\\n      <tr>\\n        <td>United States</td>\\n        <td>65%</td>\\n      </tr>\\n      <tr>\\n        <td>Russia</td>\\n        <td>5.6%</td>\\n      </tr>\\n      <tr>\\n        <td>Spain</td>\\n        <td>2.1%</td>\\n      </tr>\\n      <tr>\\n        <td>India</td>\\n        <td>1.9%</td>\\n      </tr>\\n    </table><br>\\n    <button class=\"w3-button w3-dark-grey\">More Countries \\xa0<i class=\"fa fa-arrow-right\"></i></button>\\n  </div>\\n  <hr>\\n  <div class=\"w3-container da-recentUsers\">\\n    <h5>Recent Users</h5>\\n    <ul class=\"w3-ul w3-card-4 w3-white\">\\n      <li class=\"w3-padding-16\">\\n      \\t<a href=\"#/profile/mike\">\\n\\t      <img src=\"../assets/mike.png\" class=\"w3-left w3-circle w3-margin-right\" style=\"width:35px\">\\n\\t      <span class=\"w3-xlarge\">Mike</span><br>\\n      \\t</a>\\n      </li>\\n      <li class=\"w3-padding-16\">\\n      \\t<a href=\"#/profile/jill\">\\n          <img src=\"../assets/jill.png\" class=\"w3-left w3-circle w3-margin-right\" style=\"width:35px\">\\n          <span class=\"w3-xlarge\">Jill</span><br>\\n      \\t</a>\\n      </li>\\n      <li class=\"w3-padding-16\">\\n      \\t<a href=\"#/profile/jane\">\\n          <img src=\"../assets/jane.png\" class=\"w3-left w3-circle w3-margin-right\" style=\"width:35px\">\\n          <span class=\"w3-xlarge\">Jane</span><br>\\n      \\t</a>\\n      </li>\\n    </ul>\\n  </div>\\n  <hr>\\n\\n  <div class=\"w3-container da-recentComments\">\\n    <h5>Recent Comments</h5>\\n    <div class=\"w3-row\">\\n      <div class=\"w3-col m2 text-center\">\\n        <img class=\"w3-circle\" src=\"../assets/john.png\" style=\"width:96px;height:96px\">\\n      </div>\\n      <div class=\"w3-col m10 w3-container\">\\n        <h4>John <span class=\"w3-opacity w3-medium da-timestamp\">Sep 29, 2014, 9:12 PM</span></h4>\\n        <p class=\"da-recentComment\">Keep up the GREAT work! I am cheering for you!! Lorem ipsum dolor sit amet, consectetur adipiscing elit, sed do eiusmod tempor incididunt ut labore et dolore magna aliqua.</p><br>\\n      </div>\\n    </div>\\n\\n    <div class=\"w3-row\">\\n      <div class=\"w3-col m2 text-center\">\\n        <img class=\"w3-circle\" src=\"../assets/bo.png\" style=\"width:96px;height:96px\">\\n      </div>\\n      <div class=\"w3-col m10 w3-container\">\\n        <h4>Bo <span class=\"w3-opacity w3-medium da-timestamp\">Sep 28, 2014, 10:15 PM</span></h4>\\n        <p class=\"da-recentComment\">Sed do eiusmod tempor incididunt ut labore et dolore magna aliqua.</p><br>\\n      </div>\\n    </div>\\n  </div>\\n  <br>\\n  <div class=\"w3-container w3-dark-grey w3-padding-32\">\\n    <div class=\"w3-row\">\\n      <div class=\"w3-container w3-third\">\\n        <h5 class=\"w3-bottombar w3-border-green\">Demographic</h5>\\n        <p>Language</p>\\n        <p>Country</p>\\n        <p>City</p>\\n      </div>\\n      <div class=\"w3-container w3-third\">\\n        <h5 class=\"w3-bottombar w3-border-red\">System</h5>\\n        <p>Browser</p>\\n        <p>OS</p>\\n        <p>More</p>\\n      </div>\\n      <div class=\"w3-container w3-third\">\\n        <h5 class=\"w3-bottombar w3-border-orange\">Target</h5>\\n        <p>Users</p>\\n        <p>Active</p>\\n        <p>Geo</p>\\n        <p>Interests</p>\\n      </div>\\n    </div>\\n  </div>\\n\\n  <!-- Footer -->\\n  <footer class=\"w3-container w3-padding-16 w3-light-grey\">\\n    <h4>FOOTER</h4>\\n    <p>Powered by <a href=\"https://www.w3schools.com/w3css/default.asp\" target=\"_blank\">w3.css</a></p>\\n  </footer>\\n\\n  <!-- End page content -->\\n</div>\\n\\n<script>\\n// Get the Sidebar\\nvar mySidebar = document.getElementById(\"mySidebar\");\\n\\n// Get the DIV with overlay effect\\nvar overlayBg = document.getElementById(\"myOverlay\");\\n\\n// Toggle between showing and hiding the sidebar, and add overlay effect\\nfunction w3_open() {\\n  if (mySidebar.style.display === \\'block\\') {\\n    mySidebar.style.display = \\'none\\';\\n    overlayBg.style.display = \"none\";\\n  } else {\\n    mySidebar.style.display = \\'block\\';\\n    overlayBg.style.display = \"block\";\\n  }\\n}\\n\\n// Close the sidebar with the close button\\nfunction w3_close() {\\n  mySidebar.style.display = \"none\";\\n  overlayBg.style.display = \"none\";\\n}\\n</script>\\n\\n</body>\\n</html>\\n'"
      ]
     },
     "execution_count": 1,
     "metadata": {},
     "output_type": "execute_result"
    }
   ],
   "source": [
    "with open(\"../assets/website.html\") as website_file:\n",
    "    website_contents = website_file.read()\n",
    "    \n",
    "website_contents"
   ]
  },
  {
   "cell_type": "markdown",
   "metadata": {},
   "source": [
    "What a jumbled mess!\n",
    "It is nearly impossible to understand what is going on here without some hardcore `HTML` understanding..\n",
    "Unless we visualize it!"
   ]
  },
  {
   "cell_type": "code",
   "execution_count": 2,
   "metadata": {
    "scrolled": false
   },
   "outputs": [
    {
     "data": {
      "text/html": [
       "<!DOCTYPE html>\n",
       "<html>\n",
       "<title>DashItUp, A Dashboard</title>\n",
       "<meta charset=\"UTF-8\">\n",
       "<meta name=\"viewport\" content=\"width=device-width, initial-scale=1\">\n",
       "<link rel=\"stylesheet\" href=\"https://www.w3schools.com/w3css/4/w3.css\">\n",
       "<link rel=\"stylesheet\" href=\"https://fonts.googleapis.com/css?family=Raleway\">\n",
       "<link rel=\"stylesheet\" href=\"https://cdnjs.cloudflare.com/ajax/libs/font-awesome/4.7.0/css/font-awesome.min.css\">\n",
       "<style>\n",
       "html,body,h1,h2,h3,h4,h5 {font-family: \"Raleway\", sans-serif}\n",
       "</style>\n",
       "<body class=\"w3-light-grey\">\n",
       "\n",
       "<!-- Top container -->\n",
       "<div class=\"w3-bar w3-top w3-black w3-large\" style=\"z-index:4\">\n",
       "  <button class=\"w3-bar-item w3-button w3-hide-large w3-hover-none w3-hover-text-light-grey\" onclick=\"w3_open();\"><i class=\"fa fa-bars\"></i>  Menu</button>\n",
       "  <span class=\"w3-bar-item w3-right\">Logo</span>\n",
       "</div>\n",
       "\n",
       "<!-- Sidebar/menu -->\n",
       "<nav class=\"w3-sidebar w3-collapse w3-white w3-animate-left\" style=\"z-index:3;width:300px;\" id=\"mySidebar\"><br>\n",
       "  <div class=\"w3-container w3-row\">\n",
       "    <div class=\"w3-col s4\">\n",
       "      <img src=\"../assets/mike.png\" class=\"w3-circle w3-margin-right\" style=\"width:46px\">\n",
       "    </div>\n",
       "    <div class=\"w3-col s8 w3-bar da-welcomeMenu\">\n",
       "      <span>Welcome, <strong>Mike</strong></span><br>\n",
       "      <a href=\"#\" class=\"w3-bar-item w3-button\"><i class=\"fa fa-envelope\"></i></a>\n",
       "      <a href=\"#\" class=\"w3-bar-item w3-button\"><i class=\"fa fa-user\"></i></a>\n",
       "      <a href=\"#\" class=\"w3-bar-item w3-button\"><i class=\"fa fa-cog\"></i></a>\n",
       "    </div>\n",
       "  </div>\n",
       "  <hr>\n",
       "  <div class=\"w3-container\">\n",
       "    <h5>Dashboard</h5>\n",
       "  </div>\n",
       "  <div class=\"w3-bar-block\">\n",
       "    <a href=\"#\" class=\"w3-bar-item w3-button w3-padding-16 w3-hide-large w3-dark-grey w3-hover-black\" onclick=\"w3_close()\" title=\"close menu\"><i class=\"fa fa-remove fa-fw\"></i>  Close Menu</a>\n",
       "    <a href=\"#\" class=\"w3-bar-item w3-button w3-padding w3-blue\"><i class=\"fa fa-users fa-fw\"></i>  Overview</a>\n",
       "    <a href=\"#\" class=\"w3-bar-item w3-button w3-padding\"><i class=\"fa fa-eye fa-fw\"></i>  Views</a>\n",
       "    <a href=\"#\" class=\"w3-bar-item w3-button w3-padding\"><i class=\"fa fa-users fa-fw\"></i>  Traffic</a>\n",
       "    <a href=\"#\" class=\"w3-bar-item w3-button w3-padding\"><i class=\"fa fa-bullseye fa-fw\"></i>  Geo</a>\n",
       "    <a href=\"#\" class=\"w3-bar-item w3-button w3-padding\"><i class=\"fa fa-diamond fa-fw\"></i>  Orders</a>\n",
       "    <a href=\"#\" class=\"w3-bar-item w3-button w3-padding\"><i class=\"fa fa-bell fa-fw\"></i>  News</a>\n",
       "    <a href=\"#\" class=\"w3-bar-item w3-button w3-padding\"><i class=\"fa fa-bank fa-fw\"></i>  General</a>\n",
       "    <a href=\"#\" class=\"w3-bar-item w3-button w3-padding\"><i class=\"fa fa-history fa-fw\"></i>  History</a>\n",
       "    <a href=\"#\" class=\"w3-bar-item w3-button w3-padding\"><i class=\"fa fa-cog fa-fw\"></i>  Settings</a><br><br>\n",
       "  </div>\n",
       "</nav>\n",
       "\n",
       "\n",
       "<!-- Overlay effect when opening sidebar on small screens -->\n",
       "<div class=\"w3-overlay w3-hide-large w3-animate-opacity\" onclick=\"w3_close()\" style=\"cursor:pointer\" title=\"close side menu\" id=\"myOverlay\"></div>\n",
       "\n",
       "<!-- !PAGE CONTENT! -->\n",
       "<div class=\"w3-main\" style=\"margin-left:300px;margin-top:43px;\">\n",
       "\n",
       "  <!-- Header -->\n",
       "  <header class=\"w3-container\" style=\"padding-top:22px\">\n",
       "    <h5><b><i class=\"fa fa-dashboard\"></i> My Dashboard</b></h5>\n",
       "  </header>\n",
       "\n",
       "  <div class=\"w3-row-padding w3-margin-bottom da-dashboardCards\">\n",
       "    <div class=\"w3-quarter\">\n",
       "      <div class=\"w3-container w3-red w3-padding-16\">\n",
       "        <div class=\"w3-left\"><i class=\"fa fa-comment w3-xxxlarge\"></i></div>\n",
       "        <div class=\"w3-right\">\n",
       "          <h3 class=\"da-dashboardCardMetric\">52</h3>\n",
       "        </div>\n",
       "        <div class=\"w3-clear\"></div>\n",
       "        <h4 class=\"da-dashboardCardLabel\">Messages</h4>\n",
       "      </div>\n",
       "    </div>\n",
       "    <div class=\"w3-quarter\">\n",
       "      <div class=\"w3-container w3-blue w3-padding-16\">\n",
       "        <div class=\"w3-left\"><i class=\"fa fa-eye w3-xxxlarge\"></i></div>\n",
       "        <div class=\"w3-right\">\n",
       "          <h3 class=\"da-dashboardCardMetric\">99</h3>\n",
       "        </div>\n",
       "        <div class=\"w3-clear\"></div>\n",
       "        <h4 class=\"da-dashboardCardLabel\">Views</h4>\n",
       "      </div>\n",
       "    </div>\n",
       "    <div class=\"w3-quarter\">\n",
       "      <div class=\"w3-container w3-teal w3-padding-16\">\n",
       "        <div class=\"w3-left\"><i class=\"fa fa-share-alt w3-xxxlarge\"></i></div>\n",
       "        <div class=\"w3-right\">\n",
       "          <h3 class=\"da-dashboardCardMetric\">23</h3>\n",
       "        </div>\n",
       "        <div class=\"w3-clear\"></div>\n",
       "        <h4 class=\"da-dashboardCardLabel\">Shares</h4>\n",
       "      </div>\n",
       "    </div>\n",
       "    <div class=\"w3-quarter\">\n",
       "      <div class=\"w3-container w3-orange w3-text-white w3-padding-16\">\n",
       "        <div class=\"w3-left\"><i class=\"fa fa-users w3-xxxlarge\"></i></div>\n",
       "        <div class=\"w3-right\">\n",
       "          <h3 class=\"da-dashboardCardMetric\">50</h3>\n",
       "        </div>\n",
       "        <div class=\"w3-clear\"></div>\n",
       "        <h4 class=\"da-dashboardCardLabel\">Users</h4>\n",
       "      </div>\n",
       "    </div>\n",
       "  </div>\n",
       "\n",
       "  <div class=\"w3-panel\">\n",
       "    <div class=\"w3-row-padding\" style=\"margin:0 -16px\">\n",
       "      <div class=\"w3-third\">\n",
       "        <h5>Regions</h5>\n",
       "        <img src=\"../assets/regions.jpg\" style=\"width:100%\" alt=\"Google Regional Map\">\n",
       "      </div>\n",
       "      <div class=\"w3-twothird da-feeds\">\n",
       "        <h5>Feeds</h5>\n",
       "        <table class=\"w3-table w3-striped w3-white\">\n",
       "          <tr>\n",
       "            <td><i class=\"fa fa-user w3-text-blue w3-large\"></i></td>\n",
       "            <td>New record, over 90 views.</td>\n",
       "            <td><i>10 mins</i></td>\n",
       "          </tr>\n",
       "          <tr>\n",
       "            <td><i class=\"fa fa-bell w3-text-red w3-large\"></i></td>\n",
       "            <td>Database error.</td>\n",
       "            <td><i>15 mins</i></td>\n",
       "          </tr>\n",
       "          <tr>\n",
       "            <td><i class=\"fa fa-users w3-text-yellow w3-large\"></i></td>\n",
       "            <td>New record, over 40 users.</td>\n",
       "            <td><i>17 mins</i></td>\n",
       "          </tr>\n",
       "          <tr>\n",
       "            <td><i class=\"fa fa-comment w3-text-red w3-large\"></i></td>\n",
       "            <td>New comments.</td>\n",
       "            <td><i>25 mins</i></td>\n",
       "          </tr>\n",
       "          <tr>\n",
       "            <td><i class=\"fa fa-bookmark w3-text-blue w3-large\"></i></td>\n",
       "            <td>Check transactions.</td>\n",
       "            <td><i>28 mins</i></td>\n",
       "          </tr>\n",
       "          <tr>\n",
       "            <td><i class=\"fa fa-laptop w3-text-red w3-large\"></i></td>\n",
       "            <td>CPU overload.</td>\n",
       "            <td><i>35 mins</i></td>\n",
       "          </tr>\n",
       "          <tr>\n",
       "            <td><i class=\"fa fa-share-alt w3-text-green w3-large\"></i></td>\n",
       "            <td>New shares.</td>\n",
       "            <td><i>39 mins</i></td>\n",
       "          </tr>\n",
       "        </table>\n",
       "      </div>\n",
       "    </div>\n",
       "  </div>\n",
       "  <hr>\n",
       "  <div class=\"w3-container\">\n",
       "    <h5>General Stats</h5>\n",
       "    <p>New Visitors</p>\n",
       "    <div class=\"w3-grey\" id=\"da-newVisitorsStat\">\n",
       "      <div class=\"w3-container w3-center w3-padding w3-green\" style=\"width:25%\">+25%</div>\n",
       "    </div>\n",
       "\n",
       "    <p>New Users</p>\n",
       "    <div class=\"w3-grey\" id=\"da-newUsersStat\">\n",
       "      <div class=\"w3-container w3-center w3-padding w3-orange\" style=\"width:50%\">50%</div>\n",
       "    </div>\n",
       "\n",
       "    <p>Bounce Rate</p>\n",
       "    <div class=\"w3-grey\" id=\"da-bounceRateStat\">\n",
       "      <div class=\"w3-container w3-center w3-padding w3-red\" style=\"width:75%\">75%</div>\n",
       "    </div>\n",
       "  </div>\n",
       "  <hr>\n",
       "\n",
       "  <div class=\"w3-container da-countryUtility\">\n",
       "    <h5>Countries</h5>\n",
       "    <table class=\"w3-table w3-striped w3-bordered w3-border w3-hoverable w3-white\">\n",
       "      <tr>\n",
       "      \t<th>Country</th>\n",
       "      \t<th>Utility</th>\n",
       "      </tr>\n",
       "      <tr>\n",
       "        <td>France</td>\n",
       "        <td>1.5%</td>\n",
       "      </tr>\n",
       "      <tr>\n",
       "        <td>UK</td>\n",
       "        <td>15.7%</td>\n",
       "      </tr>\n",
       "      <tr>\n",
       "        <td>United States</td>\n",
       "        <td>65%</td>\n",
       "      </tr>\n",
       "      <tr>\n",
       "        <td>Russia</td>\n",
       "        <td>5.6%</td>\n",
       "      </tr>\n",
       "      <tr>\n",
       "        <td>Spain</td>\n",
       "        <td>2.1%</td>\n",
       "      </tr>\n",
       "      <tr>\n",
       "        <td>India</td>\n",
       "        <td>1.9%</td>\n",
       "      </tr>\n",
       "    </table><br>\n",
       "    <button class=\"w3-button w3-dark-grey\">More Countries  <i class=\"fa fa-arrow-right\"></i></button>\n",
       "  </div>\n",
       "  <hr>\n",
       "  <div class=\"w3-container da-recentUsers\">\n",
       "    <h5>Recent Users</h5>\n",
       "    <ul class=\"w3-ul w3-card-4 w3-white\">\n",
       "      <li class=\"w3-padding-16\">\n",
       "      \t<a href=\"#/profile/mike\">\n",
       "\t      <img src=\"../assets/mike.png\" class=\"w3-left w3-circle w3-margin-right\" style=\"width:35px\">\n",
       "\t      <span class=\"w3-xlarge\">Mike</span><br>\n",
       "      \t</a>\n",
       "      </li>\n",
       "      <li class=\"w3-padding-16\">\n",
       "      \t<a href=\"#/profile/jill\">\n",
       "          <img src=\"../assets/jill.png\" class=\"w3-left w3-circle w3-margin-right\" style=\"width:35px\">\n",
       "          <span class=\"w3-xlarge\">Jill</span><br>\n",
       "      \t</a>\n",
       "      </li>\n",
       "      <li class=\"w3-padding-16\">\n",
       "      \t<a href=\"#/profile/jane\">\n",
       "          <img src=\"../assets/jane.png\" class=\"w3-left w3-circle w3-margin-right\" style=\"width:35px\">\n",
       "          <span class=\"w3-xlarge\">Jane</span><br>\n",
       "      \t</a>\n",
       "      </li>\n",
       "    </ul>\n",
       "  </div>\n",
       "  <hr>\n",
       "\n",
       "  <div class=\"w3-container da-recentComments\">\n",
       "    <h5>Recent Comments</h5>\n",
       "    <div class=\"w3-row\">\n",
       "      <div class=\"w3-col m2 text-center\">\n",
       "        <img class=\"w3-circle\" src=\"../assets/john.png\" style=\"width:96px;height:96px\">\n",
       "      </div>\n",
       "      <div class=\"w3-col m10 w3-container\">\n",
       "        <h4>John <span class=\"w3-opacity w3-medium da-timestamp\">Sep 29, 2014, 9:12 PM</span></h4>\n",
       "        <p class=\"da-recentComment\">Keep up the GREAT work! I am cheering for you!! Lorem ipsum dolor sit amet, consectetur adipiscing elit, sed do eiusmod tempor incididunt ut labore et dolore magna aliqua.</p><br>\n",
       "      </div>\n",
       "    </div>\n",
       "\n",
       "    <div class=\"w3-row\">\n",
       "      <div class=\"w3-col m2 text-center\">\n",
       "        <img class=\"w3-circle\" src=\"../assets/bo.png\" style=\"width:96px;height:96px\">\n",
       "      </div>\n",
       "      <div class=\"w3-col m10 w3-container\">\n",
       "        <h4>Bo <span class=\"w3-opacity w3-medium da-timestamp\">Sep 28, 2014, 10:15 PM</span></h4>\n",
       "        <p class=\"da-recentComment\">Sed do eiusmod tempor incididunt ut labore et dolore magna aliqua.</p><br>\n",
       "      </div>\n",
       "    </div>\n",
       "  </div>\n",
       "  <br>\n",
       "  <div class=\"w3-container w3-dark-grey w3-padding-32\">\n",
       "    <div class=\"w3-row\">\n",
       "      <div class=\"w3-container w3-third\">\n",
       "        <h5 class=\"w3-bottombar w3-border-green\">Demographic</h5>\n",
       "        <p>Language</p>\n",
       "        <p>Country</p>\n",
       "        <p>City</p>\n",
       "      </div>\n",
       "      <div class=\"w3-container w3-third\">\n",
       "        <h5 class=\"w3-bottombar w3-border-red\">System</h5>\n",
       "        <p>Browser</p>\n",
       "        <p>OS</p>\n",
       "        <p>More</p>\n",
       "      </div>\n",
       "      <div class=\"w3-container w3-third\">\n",
       "        <h5 class=\"w3-bottombar w3-border-orange\">Target</h5>\n",
       "        <p>Users</p>\n",
       "        <p>Active</p>\n",
       "        <p>Geo</p>\n",
       "        <p>Interests</p>\n",
       "      </div>\n",
       "    </div>\n",
       "  </div>\n",
       "\n",
       "  <!-- Footer -->\n",
       "  <footer class=\"w3-container w3-padding-16 w3-light-grey\">\n",
       "    <h4>FOOTER</h4>\n",
       "    <p>Powered by <a href=\"https://www.w3schools.com/w3css/default.asp\" target=\"_blank\">w3.css</a></p>\n",
       "  </footer>\n",
       "\n",
       "  <!-- End page content -->\n",
       "</div>\n",
       "\n",
       "<script>\n",
       "// Get the Sidebar\n",
       "var mySidebar = document.getElementById(\"mySidebar\");\n",
       "\n",
       "// Get the DIV with overlay effect\n",
       "var overlayBg = document.getElementById(\"myOverlay\");\n",
       "\n",
       "// Toggle between showing and hiding the sidebar, and add overlay effect\n",
       "function w3_open() {\n",
       "  if (mySidebar.style.display === 'block') {\n",
       "    mySidebar.style.display = 'none';\n",
       "    overlayBg.style.display = \"none\";\n",
       "  } else {\n",
       "    mySidebar.style.display = 'block';\n",
       "    overlayBg.style.display = \"block\";\n",
       "  }\n",
       "}\n",
       "\n",
       "// Close the sidebar with the close button\n",
       "function w3_close() {\n",
       "  mySidebar.style.display = \"none\";\n",
       "  overlayBg.style.display = \"none\";\n",
       "}\n",
       "</script>\n",
       "\n",
       "</body>\n",
       "</html>\n"
      ],
      "text/plain": [
       "<IPython.core.display.HTML object>"
      ]
     },
     "metadata": {},
     "output_type": "display_data"
    }
   ],
   "source": [
    "# In jupyter, you can visualize raw HTML using these two functions!\n",
    "# It is essentially \"embedding\" the website content within the notebook\n",
    "from IPython.core.display import display, HTML\n",
    "\n",
    "display(HTML(website_contents))"
   ]
  },
  {
   "cell_type": "markdown",
   "metadata": {},
   "source": [
    "---\n",
    "\n",
    "## Get to Work!\n",
    "\n",
    "### Import the tools needed"
   ]
  },
  {
   "cell_type": "code",
   "execution_count": 3,
   "metadata": {},
   "outputs": [],
   "source": [
    "from bs4 import BeautifulSoup\n",
    "import pandas as pd"
   ]
  },
  {
   "cell_type": "markdown",
   "metadata": {},
   "source": [
    "---\n",
    "\n",
    "## Create the Soup!"
   ]
  },
  {
   "cell_type": "code",
   "execution_count": 4,
   "metadata": {},
   "outputs": [
    {
     "data": {
      "text/plain": [
       "<title>DashItUp, A Dashboard</title>"
      ]
     },
     "execution_count": 4,
     "metadata": {},
     "output_type": "execute_result"
    }
   ],
   "source": [
    "# code here\n",
    "soup = BeautifulSoup(website_contents, 'html.parser')\n",
    "soup.title"
   ]
  },
  {
   "cell_type": "markdown",
   "metadata": {},
   "source": [
    "---\n",
    "\n",
    "## User Count"
   ]
  },
  {
   "cell_type": "code",
   "execution_count": 6,
   "metadata": {},
   "outputs": [
    {
     "data": {
      "text/plain": [
       "<div class=\"w3-row-padding w3-margin-bottom da-dashboardCards\">\n",
       "<div class=\"w3-quarter\">\n",
       "<div class=\"w3-container w3-red w3-padding-16\">\n",
       "<div class=\"w3-left\"><i class=\"fa fa-comment w3-xxxlarge\"></i></div>\n",
       "<div class=\"w3-right\">\n",
       "<h3 class=\"da-dashboardCardMetric\">52</h3>\n",
       "</div>\n",
       "<div class=\"w3-clear\"></div>\n",
       "<h4 class=\"da-dashboardCardLabel\">Messages</h4>\n",
       "</div>\n",
       "</div>\n",
       "<div class=\"w3-quarter\">\n",
       "<div class=\"w3-container w3-blue w3-padding-16\">\n",
       "<div class=\"w3-left\"><i class=\"fa fa-eye w3-xxxlarge\"></i></div>\n",
       "<div class=\"w3-right\">\n",
       "<h3 class=\"da-dashboardCardMetric\">99</h3>\n",
       "</div>\n",
       "<div class=\"w3-clear\"></div>\n",
       "<h4 class=\"da-dashboardCardLabel\">Views</h4>\n",
       "</div>\n",
       "</div>\n",
       "<div class=\"w3-quarter\">\n",
       "<div class=\"w3-container w3-teal w3-padding-16\">\n",
       "<div class=\"w3-left\"><i class=\"fa fa-share-alt w3-xxxlarge\"></i></div>\n",
       "<div class=\"w3-right\">\n",
       "<h3 class=\"da-dashboardCardMetric\">23</h3>\n",
       "</div>\n",
       "<div class=\"w3-clear\"></div>\n",
       "<h4 class=\"da-dashboardCardLabel\">Shares</h4>\n",
       "</div>\n",
       "</div>\n",
       "<div class=\"w3-quarter\">\n",
       "<div class=\"w3-container w3-orange w3-text-white w3-padding-16\">\n",
       "<div class=\"w3-left\"><i class=\"fa fa-users w3-xxxlarge\"></i></div>\n",
       "<div class=\"w3-right\">\n",
       "<h3 class=\"da-dashboardCardMetric\">50</h3>\n",
       "</div>\n",
       "<div class=\"w3-clear\"></div>\n",
       "<h4 class=\"da-dashboardCardLabel\">Users</h4>\n",
       "</div>\n",
       "</div>\n",
       "</div>"
      ]
     },
     "execution_count": 6,
     "metadata": {},
     "output_type": "execute_result"
    }
   ],
   "source": [
    "# code here\n",
    "# class=\"w3-row-padding w3-margin-bottom da-dashboardCards\"\n",
    "# attribute value will be a DICTIONARY (curly brackets)\n",
    "dashboard_cards_soup = soup.find('div', attrs={'class': 'da-dashboardCards'})\n",
    "dashboard_cards_soup"
   ]
  },
  {
   "cell_type": "code",
   "execution_count": 8,
   "metadata": {},
   "outputs": [
    {
     "data": {
      "text/plain": [
       "[<div class=\"w3-quarter\">\n",
       " <div class=\"w3-container w3-red w3-padding-16\">\n",
       " <div class=\"w3-left\"><i class=\"fa fa-comment w3-xxxlarge\"></i></div>\n",
       " <div class=\"w3-right\">\n",
       " <h3 class=\"da-dashboardCardMetric\">52</h3>\n",
       " </div>\n",
       " <div class=\"w3-clear\"></div>\n",
       " <h4 class=\"da-dashboardCardLabel\">Messages</h4>\n",
       " </div>\n",
       " </div>,\n",
       " <div class=\"w3-quarter\">\n",
       " <div class=\"w3-container w3-blue w3-padding-16\">\n",
       " <div class=\"w3-left\"><i class=\"fa fa-eye w3-xxxlarge\"></i></div>\n",
       " <div class=\"w3-right\">\n",
       " <h3 class=\"da-dashboardCardMetric\">99</h3>\n",
       " </div>\n",
       " <div class=\"w3-clear\"></div>\n",
       " <h4 class=\"da-dashboardCardLabel\">Views</h4>\n",
       " </div>\n",
       " </div>,\n",
       " <div class=\"w3-quarter\">\n",
       " <div class=\"w3-container w3-teal w3-padding-16\">\n",
       " <div class=\"w3-left\"><i class=\"fa fa-share-alt w3-xxxlarge\"></i></div>\n",
       " <div class=\"w3-right\">\n",
       " <h3 class=\"da-dashboardCardMetric\">23</h3>\n",
       " </div>\n",
       " <div class=\"w3-clear\"></div>\n",
       " <h4 class=\"da-dashboardCardLabel\">Shares</h4>\n",
       " </div>\n",
       " </div>,\n",
       " <div class=\"w3-quarter\">\n",
       " <div class=\"w3-container w3-orange w3-text-white w3-padding-16\">\n",
       " <div class=\"w3-left\"><i class=\"fa fa-users w3-xxxlarge\"></i></div>\n",
       " <div class=\"w3-right\">\n",
       " <h3 class=\"da-dashboardCardMetric\">50</h3>\n",
       " </div>\n",
       " <div class=\"w3-clear\"></div>\n",
       " <h4 class=\"da-dashboardCardLabel\">Users</h4>\n",
       " </div>\n",
       " </div>]"
      ]
     },
     "execution_count": 8,
     "metadata": {},
     "output_type": "execute_result"
    }
   ],
   "source": [
    "dashboard_cards = dashboard_cards_soup.findAll(recursive=False)\n",
    "dashboard_cards"
   ]
  },
  {
   "cell_type": "code",
   "execution_count": 9,
   "metadata": {},
   "outputs": [
    {
     "data": {
      "text/plain": [
       "<div class=\"w3-quarter\">\n",
       "<div class=\"w3-container w3-orange w3-text-white w3-padding-16\">\n",
       "<div class=\"w3-left\"><i class=\"fa fa-users w3-xxxlarge\"></i></div>\n",
       "<div class=\"w3-right\">\n",
       "<h3 class=\"da-dashboardCardMetric\">50</h3>\n",
       "</div>\n",
       "<div class=\"w3-clear\"></div>\n",
       "<h4 class=\"da-dashboardCardLabel\">Users</h4>\n",
       "</div>\n",
       "</div>"
      ]
     },
     "execution_count": 9,
     "metadata": {},
     "output_type": "execute_result"
    }
   ],
   "source": [
    "dashboard_cards[-1]"
   ]
  },
  {
   "cell_type": "code",
   "execution_count": 11,
   "metadata": {},
   "outputs": [
    {
     "data": {
      "text/plain": [
       "<h3 class=\"da-dashboardCardMetric\">50</h3>"
      ]
     },
     "execution_count": 11,
     "metadata": {},
     "output_type": "execute_result"
    }
   ],
   "source": [
    "dashboard_cards[-1].find('h3', attrs={'class': 'da-dashboardCardMetric'})"
   ]
  },
  {
   "cell_type": "code",
   "execution_count": 12,
   "metadata": {},
   "outputs": [
    {
     "data": {
      "text/plain": [
       "'50'"
      ]
     },
     "execution_count": 12,
     "metadata": {},
     "output_type": "execute_result"
    }
   ],
   "source": [
    "dashboard_cards[-1].find('h3', attrs={'class': 'da-dashboardCardMetric'}).text"
   ]
  },
  {
   "cell_type": "markdown",
   "metadata": {},
   "source": [
    "---\n",
    "\n",
    "## Any _system errors_, how recent?\n",
    "System errors can be one of the following: \n",
    "\n",
    "* `Database error`\n",
    "* `CPU overload`\n",
    "* `Out of memory`"
   ]
  },
  {
   "cell_type": "code",
   "execution_count": 13,
   "metadata": {},
   "outputs": [
    {
     "data": {
      "text/plain": [
       "<div class=\"w3-twothird da-feeds\">\n",
       "<h5>Feeds</h5>\n",
       "<table class=\"w3-table w3-striped w3-white\">\n",
       "<tr>\n",
       "<td><i class=\"fa fa-user w3-text-blue w3-large\"></i></td>\n",
       "<td>New record, over 90 views.</td>\n",
       "<td><i>10 mins</i></td>\n",
       "</tr>\n",
       "<tr>\n",
       "<td><i class=\"fa fa-bell w3-text-red w3-large\"></i></td>\n",
       "<td>Database error.</td>\n",
       "<td><i>15 mins</i></td>\n",
       "</tr>\n",
       "<tr>\n",
       "<td><i class=\"fa fa-users w3-text-yellow w3-large\"></i></td>\n",
       "<td>New record, over 40 users.</td>\n",
       "<td><i>17 mins</i></td>\n",
       "</tr>\n",
       "<tr>\n",
       "<td><i class=\"fa fa-comment w3-text-red w3-large\"></i></td>\n",
       "<td>New comments.</td>\n",
       "<td><i>25 mins</i></td>\n",
       "</tr>\n",
       "<tr>\n",
       "<td><i class=\"fa fa-bookmark w3-text-blue w3-large\"></i></td>\n",
       "<td>Check transactions.</td>\n",
       "<td><i>28 mins</i></td>\n",
       "</tr>\n",
       "<tr>\n",
       "<td><i class=\"fa fa-laptop w3-text-red w3-large\"></i></td>\n",
       "<td>CPU overload.</td>\n",
       "<td><i>35 mins</i></td>\n",
       "</tr>\n",
       "<tr>\n",
       "<td><i class=\"fa fa-share-alt w3-text-green w3-large\"></i></td>\n",
       "<td>New shares.</td>\n",
       "<td><i>39 mins</i></td>\n",
       "</tr>\n",
       "</table>\n",
       "</div>"
      ]
     },
     "execution_count": 13,
     "metadata": {},
     "output_type": "execute_result"
    }
   ],
   "source": [
    "# code here\n",
    "feeds = soup.find('div', attrs={'class': 'da-feeds'})\n",
    "feeds"
   ]
  },
  {
   "cell_type": "code",
   "execution_count": 14,
   "metadata": {},
   "outputs": [
    {
     "data": {
      "text/plain": [
       "[    0                           1        2\n",
       " 0 NaN  New record, over 90 views.  10 mins\n",
       " 1 NaN             Database error.  15 mins\n",
       " 2 NaN  New record, over 40 users.  17 mins\n",
       " 3 NaN               New comments.  25 mins\n",
       " 4 NaN         Check transactions.  28 mins\n",
       " 5 NaN               CPU overload.  35 mins\n",
       " 6 NaN                 New shares.  39 mins]"
      ]
     },
     "execution_count": 14,
     "metadata": {},
     "output_type": "execute_result"
    }
   ],
   "source": [
    "feeds_dataframes = pd.read_html(str(feeds))\n",
    "feeds_dataframes"
   ]
  },
  {
   "cell_type": "code",
   "execution_count": 22,
   "metadata": {},
   "outputs": [
    {
     "data": {
      "text/html": [
       "<div>\n",
       "<style scoped>\n",
       "    .dataframe tbody tr th:only-of-type {\n",
       "        vertical-align: middle;\n",
       "    }\n",
       "\n",
       "    .dataframe tbody tr th {\n",
       "        vertical-align: top;\n",
       "    }\n",
       "\n",
       "    .dataframe thead th {\n",
       "        text-align: right;\n",
       "    }\n",
       "</style>\n",
       "<table border=\"1\" class=\"dataframe\">\n",
       "  <thead>\n",
       "    <tr style=\"text-align: right;\">\n",
       "      <th></th>\n",
       "      <th>icon</th>\n",
       "      <th>message</th>\n",
       "      <th>minutes</th>\n",
       "    </tr>\n",
       "  </thead>\n",
       "  <tbody>\n",
       "    <tr>\n",
       "      <th>0</th>\n",
       "      <td>NaN</td>\n",
       "      <td>New record, over 90 views.</td>\n",
       "      <td>10 mins</td>\n",
       "    </tr>\n",
       "    <tr>\n",
       "      <th>1</th>\n",
       "      <td>NaN</td>\n",
       "      <td>Database error.</td>\n",
       "      <td>15 mins</td>\n",
       "    </tr>\n",
       "    <tr>\n",
       "      <th>2</th>\n",
       "      <td>NaN</td>\n",
       "      <td>New record, over 40 users.</td>\n",
       "      <td>17 mins</td>\n",
       "    </tr>\n",
       "    <tr>\n",
       "      <th>3</th>\n",
       "      <td>NaN</td>\n",
       "      <td>New comments.</td>\n",
       "      <td>25 mins</td>\n",
       "    </tr>\n",
       "    <tr>\n",
       "      <th>4</th>\n",
       "      <td>NaN</td>\n",
       "      <td>Check transactions.</td>\n",
       "      <td>28 mins</td>\n",
       "    </tr>\n",
       "    <tr>\n",
       "      <th>5</th>\n",
       "      <td>NaN</td>\n",
       "      <td>CPU overload.</td>\n",
       "      <td>35 mins</td>\n",
       "    </tr>\n",
       "    <tr>\n",
       "      <th>6</th>\n",
       "      <td>NaN</td>\n",
       "      <td>New shares.</td>\n",
       "      <td>39 mins</td>\n",
       "    </tr>\n",
       "  </tbody>\n",
       "</table>\n",
       "</div>"
      ],
      "text/plain": [
       "   icon                     message  minutes\n",
       "0   NaN  New record, over 90 views.  10 mins\n",
       "1   NaN             Database error.  15 mins\n",
       "2   NaN  New record, over 40 users.  17 mins\n",
       "3   NaN               New comments.  25 mins\n",
       "4   NaN         Check transactions.  28 mins\n",
       "5   NaN               CPU overload.  35 mins\n",
       "6   NaN                 New shares.  39 mins"
      ]
     },
     "execution_count": 22,
     "metadata": {},
     "output_type": "execute_result"
    }
   ],
   "source": [
    "feeds_dataframe = feeds_dataframes[0]\n",
    "feeds_dataframe"
   ]
  },
  {
   "cell_type": "code",
   "execution_count": 23,
   "metadata": {},
   "outputs": [],
   "source": [
    "feeds_dataframe.columns = ['icon', 'message', 'minutes']"
   ]
  },
  {
   "cell_type": "code",
   "execution_count": 24,
   "metadata": {},
   "outputs": [],
   "source": [
    "feeds_dataframe = feeds_dataframe.drop(columns=('icon'))"
   ]
  },
  {
   "cell_type": "code",
   "execution_count": 25,
   "metadata": {},
   "outputs": [
    {
     "data": {
      "text/html": [
       "<div>\n",
       "<style scoped>\n",
       "    .dataframe tbody tr th:only-of-type {\n",
       "        vertical-align: middle;\n",
       "    }\n",
       "\n",
       "    .dataframe tbody tr th {\n",
       "        vertical-align: top;\n",
       "    }\n",
       "\n",
       "    .dataframe thead th {\n",
       "        text-align: right;\n",
       "    }\n",
       "</style>\n",
       "<table border=\"1\" class=\"dataframe\">\n",
       "  <thead>\n",
       "    <tr style=\"text-align: right;\">\n",
       "      <th></th>\n",
       "      <th>message</th>\n",
       "      <th>minutes</th>\n",
       "    </tr>\n",
       "  </thead>\n",
       "  <tbody>\n",
       "    <tr>\n",
       "      <th>1</th>\n",
       "      <td>Database error.</td>\n",
       "      <td>15 mins</td>\n",
       "    </tr>\n",
       "    <tr>\n",
       "      <th>5</th>\n",
       "      <td>CPU overload.</td>\n",
       "      <td>35 mins</td>\n",
       "    </tr>\n",
       "  </tbody>\n",
       "</table>\n",
       "</div>"
      ],
      "text/plain": [
       "           message  minutes\n",
       "1  Database error.  15 mins\n",
       "5    CPU overload.  35 mins"
      ]
     },
     "execution_count": 25,
     "metadata": {},
     "output_type": "execute_result"
    }
   ],
   "source": [
    "\n",
    "error_messages = ['Database error.', 'CPU overload.', 'out of memory.']\n",
    "\n",
    "feeds_dataframe[\n",
    "    feeds_dataframe['message'].isin(error_messages)\n",
    "]\n",
    "\n"
   ]
  },
  {
   "cell_type": "markdown",
   "metadata": {},
   "source": [
    "---\n",
    "\n",
    "## Bounce Rate"
   ]
  },
  {
   "cell_type": "code",
   "execution_count": null,
   "metadata": {},
   "outputs": [],
   "source": [
    "# code here"
   ]
  },
  {
   "cell_type": "markdown",
   "metadata": {},
   "source": [
    "---\n",
    "\n",
    "## Top and bottom countries by utility"
   ]
  },
  {
   "cell_type": "code",
   "execution_count": null,
   "metadata": {},
   "outputs": [],
   "source": [
    "# code here"
   ]
  },
  {
   "cell_type": "markdown",
   "metadata": {},
   "source": [
    "---\n",
    "\n",
    "## Most recent user names with links to their profiles"
   ]
  },
  {
   "cell_type": "code",
   "execution_count": 27,
   "metadata": {},
   "outputs": [
    {
     "name": "stdout",
     "output_type": "stream",
     "text": [
      "<div class=\"w3-container da-recentUsers\">\n",
      " <h5>\n",
      "  Recent Users\n",
      " </h5>\n",
      " <ul class=\"w3-ul w3-card-4 w3-white\">\n",
      "  <li class=\"w3-padding-16\">\n",
      "   <a href=\"#/profile/mike\">\n",
      "    <img class=\"w3-left w3-circle w3-margin-right\" src=\"../assets/mike.png\" style=\"width:35px\"/>\n",
      "    <span class=\"w3-xlarge\">\n",
      "     Mike\n",
      "    </span>\n",
      "    <br/>\n",
      "   </a>\n",
      "  </li>\n",
      "  <li class=\"w3-padding-16\">\n",
      "   <a href=\"#/profile/jill\">\n",
      "    <img class=\"w3-left w3-circle w3-margin-right\" src=\"../assets/jill.png\" style=\"width:35px\"/>\n",
      "    <span class=\"w3-xlarge\">\n",
      "     Jill\n",
      "    </span>\n",
      "    <br/>\n",
      "   </a>\n",
      "  </li>\n",
      "  <li class=\"w3-padding-16\">\n",
      "   <a href=\"#/profile/jane\">\n",
      "    <img class=\"w3-left w3-circle w3-margin-right\" src=\"../assets/jane.png\" style=\"width:35px\"/>\n",
      "    <span class=\"w3-xlarge\">\n",
      "     Jane\n",
      "    </span>\n",
      "    <br/>\n",
      "   </a>\n",
      "  </li>\n",
      " </ul>\n",
      "</div>\n",
      "\n"
     ]
    }
   ],
   "source": [
    "# code here\n",
    "recent_users = soup.find('div', attrs={'class':'da-recentUsers'})\n",
    "print(recent_users.prettify())"
   ]
  },
  {
   "cell_type": "code",
   "execution_count": 29,
   "metadata": {},
   "outputs": [
    {
     "data": {
      "text/plain": [
       "[<li class=\"w3-padding-16\">\n",
       " <a href=\"#/profile/mike\">\n",
       " <img class=\"w3-left w3-circle w3-margin-right\" src=\"../assets/mike.png\" style=\"width:35px\"/>\n",
       " <span class=\"w3-xlarge\">Mike</span><br/>\n",
       " </a>\n",
       " </li>,\n",
       " <li class=\"w3-padding-16\">\n",
       " <a href=\"#/profile/jill\">\n",
       " <img class=\"w3-left w3-circle w3-margin-right\" src=\"../assets/jill.png\" style=\"width:35px\"/>\n",
       " <span class=\"w3-xlarge\">Jill</span><br/>\n",
       " </a>\n",
       " </li>,\n",
       " <li class=\"w3-padding-16\">\n",
       " <a href=\"#/profile/jane\">\n",
       " <img class=\"w3-left w3-circle w3-margin-right\" src=\"../assets/jane.png\" style=\"width:35px\"/>\n",
       " <span class=\"w3-xlarge\">Jane</span><br/>\n",
       " </a>\n",
       " </li>]"
      ]
     },
     "execution_count": 29,
     "metadata": {},
     "output_type": "execute_result"
    }
   ],
   "source": [
    "recent_users.find_all('li')"
   ]
  },
  {
   "cell_type": "code",
   "execution_count": 30,
   "metadata": {},
   "outputs": [
    {
     "name": "stdout",
     "output_type": "stream",
     "text": [
      "<li class=\"w3-padding-16\">\n",
      "<a href=\"#/profile/mike\">\n",
      "<img class=\"w3-left w3-circle w3-margin-right\" src=\"../assets/mike.png\" style=\"width:35px\"/>\n",
      "<span class=\"w3-xlarge\">Mike</span><br/>\n",
      "</a>\n",
      "</li>\n",
      "\n",
      "<li class=\"w3-padding-16\">\n",
      "<a href=\"#/profile/jill\">\n",
      "<img class=\"w3-left w3-circle w3-margin-right\" src=\"../assets/jill.png\" style=\"width:35px\"/>\n",
      "<span class=\"w3-xlarge\">Jill</span><br/>\n",
      "</a>\n",
      "</li>\n",
      "\n",
      "<li class=\"w3-padding-16\">\n",
      "<a href=\"#/profile/jane\">\n",
      "<img class=\"w3-left w3-circle w3-margin-right\" src=\"../assets/jane.png\" style=\"width:35px\"/>\n",
      "<span class=\"w3-xlarge\">Jane</span><br/>\n",
      "</a>\n",
      "</li>\n",
      "\n"
     ]
    }
   ],
   "source": [
    "for user in recent_users.find_all('li'):\n",
    "    print(user)\n",
    "    print()"
   ]
  },
  {
   "cell_type": "code",
   "execution_count": 32,
   "metadata": {},
   "outputs": [
    {
     "name": "stdout",
     "output_type": "stream",
     "text": [
      "#/profile/mike\n",
      "\n",
      "#/profile/jill\n",
      "\n",
      "#/profile/jane\n",
      "\n"
     ]
    }
   ],
   "source": [
    "for user in recent_users.find_all('li'):\n",
    "    a_tag = user.find('a')\n",
    "    href = a_tag['href']\n",
    "    print(href)\n",
    "    print()"
   ]
  },
  {
   "cell_type": "code",
   "execution_count": 34,
   "metadata": {},
   "outputs": [
    {
     "name": "stdout",
     "output_type": "stream",
     "text": [
      "Mike\n",
      "\n",
      "Jill\n",
      "\n",
      "Jane\n",
      "\n"
     ]
    }
   ],
   "source": [
    "for user in recent_users.find_all('li'):\n",
    "    span = user.find('span')\n",
    "    username = span.text\n",
    "    print(username)\n",
    "    print()"
   ]
  },
  {
   "cell_type": "code",
   "execution_count": 35,
   "metadata": {},
   "outputs": [
    {
     "name": "stdout",
     "output_type": "stream",
     "text": [
      "Mike #/profile/mike\n",
      "\n",
      "Jill #/profile/jill\n",
      "\n",
      "Jane #/profile/jane\n",
      "\n"
     ]
    }
   ],
   "source": [
    "for user in recent_users.find_all('li'):\n",
    "    a_tag = user.find('a')\n",
    "    href = a_tag['href']\n",
    "    \n",
    "    span = user.find('span')\n",
    "    username = span.text\n",
    "    \n",
    "    print(username, href)\n",
    "    print()"
   ]
  },
  {
   "cell_type": "markdown",
   "metadata": {},
   "source": [
    "---\n",
    "\n",
    "## Name of the user that owns the dashboard"
   ]
  },
  {
   "cell_type": "code",
   "execution_count": null,
   "metadata": {},
   "outputs": [],
   "source": [
    "# code here"
   ]
  }
 ],
 "metadata": {
  "kernelspec": {
   "display_name": "Python 3",
   "language": "python",
   "name": "python3"
  },
  "language_info": {
   "codemirror_mode": {
    "name": "ipython",
    "version": 3
   },
   "file_extension": ".py",
   "mimetype": "text/x-python",
   "name": "python",
   "nbconvert_exporter": "python",
   "pygments_lexer": "ipython3",
   "version": "3.8.3"
  }
 },
 "nbformat": 4,
 "nbformat_minor": 4
}
