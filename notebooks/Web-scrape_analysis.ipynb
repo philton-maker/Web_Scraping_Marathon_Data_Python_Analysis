{
 "cells": [
  {
   "cell_type": "markdown",
   "metadata": {},
   "source": [
    "### Imports"
   ]
  },
  {
   "cell_type": "code",
   "execution_count": 75,
   "metadata": {},
   "outputs": [],
   "source": [
    "import requests\n",
    "from bs4 import BeautifulSoup\n",
    "import pandas as pd\n",
    "import matplotlib.pyplot as plt"
   ]
  },
  {
   "cell_type": "code",
   "execution_count": 36,
   "metadata": {},
   "outputs": [],
   "source": [
    "soupf2019 = BeautifulSoup(responsef2019.content, \"html.parser\")\n",
    "souppf2019 =soupf2019.find(attrs={\"class\": \"race-search-main\"}) \\\n",
    "    .find(\"table\")"
   ]
  },
  {
   "cell_type": "code",
   "execution_count": null,
   "metadata": {},
   "outputs": [],
   "source": [
    "dff2019 = pd.read_html(str(souppf2019))\n",
    "dff2019"
   ]
  },
  {
   "cell_type": "code",
   "execution_count": 38,
   "metadata": {},
   "outputs": [
    {
     "data": {
      "text/html": [
       "<div>\n",
       "<style scoped>\n",
       "    .dataframe tbody tr th:only-of-type {\n",
       "        vertical-align: middle;\n",
       "    }\n",
       "\n",
       "    .dataframe tbody tr th {\n",
       "        vertical-align: top;\n",
       "    }\n",
       "\n",
       "    .dataframe thead th {\n",
       "        text-align: right;\n",
       "    }\n",
       "</style>\n",
       "<table border=\"1\" class=\"dataframe\">\n",
       "  <thead>\n",
       "    <tr style=\"text-align: right;\">\n",
       "      <th></th>\n",
       "      <th>Overall</th>\n",
       "      <th>Bib</th>\n",
       "      <th>Name</th>\n",
       "      <th>Time</th>\n",
       "    </tr>\n",
       "  </thead>\n",
       "  <tbody>\n",
       "    <tr>\n",
       "      <th>0</th>\n",
       "      <td>1</td>\n",
       "      <td>30001</td>\n",
       "      <td>Travis Peruski</td>\n",
       "      <td>01:37:54</td>\n",
       "    </tr>\n",
       "    <tr>\n",
       "      <th>1</th>\n",
       "      <td>2</td>\n",
       "      <td>1</td>\n",
       "      <td>Scott Wietecha</td>\n",
       "      <td>02:34:59</td>\n",
       "    </tr>\n",
       "    <tr>\n",
       "      <th>2</th>\n",
       "      <td>3</td>\n",
       "      <td>4</td>\n",
       "      <td>Jordan Wilson</td>\n",
       "      <td>02:35:24</td>\n",
       "    </tr>\n",
       "    <tr>\n",
       "      <th>3</th>\n",
       "      <td>4</td>\n",
       "      <td>30034</td>\n",
       "      <td>Steelton Flynn</td>\n",
       "      <td>02:39:59</td>\n",
       "    </tr>\n",
       "    <tr>\n",
       "      <th>4</th>\n",
       "      <td>5</td>\n",
       "      <td>30035</td>\n",
       "      <td>Thomas Ellis</td>\n",
       "      <td>02:42:09</td>\n",
       "    </tr>\n",
       "    <tr>\n",
       "      <th>5</th>\n",
       "      <td>6</td>\n",
       "      <td>33172</td>\n",
       "      <td>Nicholas Tseffos</td>\n",
       "      <td>02:48:42</td>\n",
       "    </tr>\n",
       "    <tr>\n",
       "      <th>6</th>\n",
       "      <td>7</td>\n",
       "      <td>30053</td>\n",
       "      <td>Satoshi Mitsumori</td>\n",
       "      <td>02:50:33</td>\n",
       "    </tr>\n",
       "    <tr>\n",
       "      <th>7</th>\n",
       "      <td>8</td>\n",
       "      <td>30051</td>\n",
       "      <td>Harrison Kieffer</td>\n",
       "      <td>02:51:18</td>\n",
       "    </tr>\n",
       "    <tr>\n",
       "      <th>8</th>\n",
       "      <td>9</td>\n",
       "      <td>30086</td>\n",
       "      <td>Steven Forte</td>\n",
       "      <td>02:54:34</td>\n",
       "    </tr>\n",
       "    <tr>\n",
       "      <th>9</th>\n",
       "      <td>10</td>\n",
       "      <td>30042</td>\n",
       "      <td>Grant Rice</td>\n",
       "      <td>02:55:49</td>\n",
       "    </tr>\n",
       "    <tr>\n",
       "      <th>10</th>\n",
       "      <td>11</td>\n",
       "      <td>30049</td>\n",
       "      <td>Andrew Fisher</td>\n",
       "      <td>02:56:05</td>\n",
       "    </tr>\n",
       "    <tr>\n",
       "      <th>11</th>\n",
       "      <td>12</td>\n",
       "      <td>30038</td>\n",
       "      <td>Edgar Garza</td>\n",
       "      <td>02:56:40</td>\n",
       "    </tr>\n",
       "    <tr>\n",
       "      <th>12</th>\n",
       "      <td>13</td>\n",
       "      <td>30094</td>\n",
       "      <td>Wesley King</td>\n",
       "      <td>02:56:58</td>\n",
       "    </tr>\n",
       "    <tr>\n",
       "      <th>13</th>\n",
       "      <td>14</td>\n",
       "      <td>30112</td>\n",
       "      <td>Jake Smith</td>\n",
       "      <td>02:57:38</td>\n",
       "    </tr>\n",
       "    <tr>\n",
       "      <th>14</th>\n",
       "      <td>15</td>\n",
       "      <td>30096</td>\n",
       "      <td>Mark Laprade</td>\n",
       "      <td>02:58:00</td>\n",
       "    </tr>\n",
       "    <tr>\n",
       "      <th>15</th>\n",
       "      <td>16</td>\n",
       "      <td>30142</td>\n",
       "      <td>Scott Roman</td>\n",
       "      <td>02:59:09</td>\n",
       "    </tr>\n",
       "    <tr>\n",
       "      <th>16</th>\n",
       "      <td>17</td>\n",
       "      <td>30054</td>\n",
       "      <td>James Nabholz</td>\n",
       "      <td>02:59:59</td>\n",
       "    </tr>\n",
       "    <tr>\n",
       "      <th>17</th>\n",
       "      <td>18</td>\n",
       "      <td>30056</td>\n",
       "      <td>Kazufumi Seki</td>\n",
       "      <td>03:01:21</td>\n",
       "    </tr>\n",
       "    <tr>\n",
       "      <th>18</th>\n",
       "      <td>19</td>\n",
       "      <td>30084</td>\n",
       "      <td>Nicholas Eulau</td>\n",
       "      <td>03:01:59</td>\n",
       "    </tr>\n",
       "    <tr>\n",
       "      <th>19</th>\n",
       "      <td>20</td>\n",
       "      <td>30045</td>\n",
       "      <td>Mitchell Davis</td>\n",
       "      <td>03:02:18</td>\n",
       "    </tr>\n",
       "    <tr>\n",
       "      <th>20</th>\n",
       "      <td>21</td>\n",
       "      <td>30075</td>\n",
       "      <td>Eddie Bell</td>\n",
       "      <td>03:03:12</td>\n",
       "    </tr>\n",
       "    <tr>\n",
       "      <th>21</th>\n",
       "      <td>22</td>\n",
       "      <td>30039</td>\n",
       "      <td>Montana Klingsporn</td>\n",
       "      <td>03:03:17</td>\n",
       "    </tr>\n",
       "    <tr>\n",
       "      <th>22</th>\n",
       "      <td>23</td>\n",
       "      <td>2</td>\n",
       "      <td>Mathias Osmark</td>\n",
       "      <td>03:04:01</td>\n",
       "    </tr>\n",
       "    <tr>\n",
       "      <th>23</th>\n",
       "      <td>24</td>\n",
       "      <td>30052</td>\n",
       "      <td>Sean Kunis</td>\n",
       "      <td>03:05:22</td>\n",
       "    </tr>\n",
       "    <tr>\n",
       "      <th>24</th>\n",
       "      <td>25</td>\n",
       "      <td>30074</td>\n",
       "      <td>Dylan Beaulieu</td>\n",
       "      <td>03:05:28</td>\n",
       "    </tr>\n",
       "  </tbody>\n",
       "</table>\n",
       "</div>"
      ],
      "text/plain": [
       "    Overall    Bib                Name      Time\n",
       "0         1  30001      Travis Peruski  01:37:54\n",
       "1         2      1      Scott Wietecha  02:34:59\n",
       "2         3      4       Jordan Wilson  02:35:24\n",
       "3         4  30034      Steelton Flynn  02:39:59\n",
       "4         5  30035        Thomas Ellis  02:42:09\n",
       "5         6  33172    Nicholas Tseffos  02:48:42\n",
       "6         7  30053   Satoshi Mitsumori  02:50:33\n",
       "7         8  30051    Harrison Kieffer  02:51:18\n",
       "8         9  30086        Steven Forte  02:54:34\n",
       "9        10  30042          Grant Rice  02:55:49\n",
       "10       11  30049       Andrew Fisher  02:56:05\n",
       "11       12  30038         Edgar Garza  02:56:40\n",
       "12       13  30094         Wesley King  02:56:58\n",
       "13       14  30112          Jake Smith  02:57:38\n",
       "14       15  30096        Mark Laprade  02:58:00\n",
       "15       16  30142         Scott Roman  02:59:09\n",
       "16       17  30054       James Nabholz  02:59:59\n",
       "17       18  30056       Kazufumi Seki  03:01:21\n",
       "18       19  30084      Nicholas Eulau  03:01:59\n",
       "19       20  30045      Mitchell Davis  03:02:18\n",
       "20       21  30075          Eddie Bell  03:03:12\n",
       "21       22  30039  Montana Klingsporn  03:03:17\n",
       "22       23      2      Mathias Osmark  03:04:01\n",
       "23       24  30052          Sean Kunis  03:05:22\n",
       "24       25  30074      Dylan Beaulieu  03:05:28"
      ]
     },
     "execution_count": 38,
     "metadata": {},
     "output_type": "execute_result"
    }
   ],
   "source": [
    "dff2019[0]"
   ]
  },
  {
   "cell_type": "markdown",
   "metadata": {},
   "source": [
    "### Half Marathon 2016"
   ]
  },
  {
   "cell_type": "code",
   "execution_count": 4,
   "metadata": {},
   "outputs": [],
   "source": [
    "tablesh2016 = list()\n",
    "x = 1\n",
    "while x < 899:\n",
    "    URL = 'https://www.runrocknroll.com/Events/Nashville/The-Races/Half-Marathon/2016-Results?gender=&agegroup=&bib=&firstname=&lastname=&page={}'.format(x)\n",
    "    responseh2016 = requests.post(URL)\n",
    "    soup = BeautifulSoup(responseh2016.content, \"html.parser\")\n",
    "    marathon_tableh2016 = soup.find(attrs={\"class\": \"race-search-main\"}).find(\"table\")\n",
    "    tablesh2016.append(marathon_tableh2016)\n",
    "    x += 1"
   ]
  },
  {
   "cell_type": "code",
   "execution_count": null,
   "metadata": {},
   "outputs": [],
   "source": [
    "dfh2016 = pd.read_html(str(tablesh2016))\n",
    "dfh2016 = pd.concat(dfh2016)\n"
   ]
  },
  {
   "cell_type": "code",
   "execution_count": 48,
   "metadata": {},
   "outputs": [
    {
     "data": {
      "text/plain": [
       "99999    4512\n",
       "2047        1\n",
       "2708        1\n",
       "4743        1\n",
       "17037       1\n",
       "         ... \n",
       "9534        1\n",
       "15677       1\n",
       "13628       1\n",
       "3387        1\n",
       "2049        1\n",
       "Name: Overall, Length: 17918, dtype: int64"
      ]
     },
     "execution_count": 48,
     "metadata": {},
     "output_type": "execute_result"
    }
   ],
   "source": [
    "dfh2016['Overall'].value_counts()"
   ]
  },
  {
   "cell_type": "code",
   "execution_count": 51,
   "metadata": {},
   "outputs": [
    {
     "name": "stdout",
     "output_type": "stream",
     "text": [
      "<class 'pandas.core.frame.DataFrame'>\n",
      "Int64Index: 22429 entries, 0 to 3\n",
      "Data columns (total 4 columns):\n",
      " #   Column   Non-Null Count  Dtype \n",
      "---  ------   --------------  ----- \n",
      " 0   Overall  22429 non-null  int64 \n",
      " 1   Bib      22429 non-null  int64 \n",
      " 2   Name     22429 non-null  object\n",
      " 3   Time     22429 non-null  object\n",
      "dtypes: int64(2), object(2)\n",
      "memory usage: 876.1+ KB\n"
     ]
    },
    {
     "data": {
      "text/plain": [
       "20.116813054527622"
      ]
     },
     "execution_count": 51,
     "metadata": {},
     "output_type": "execute_result"
    }
   ],
   "source": [
    "dfh2016.info()\n",
    "nofinh2016 = (4512 / 22429) * 100\n",
    "nofinh2016"
   ]
  },
  {
   "cell_type": "markdown",
   "metadata": {},
   "source": [
    "### Full Marathon 2016"
   ]
  },
  {
   "cell_type": "code",
   "execution_count": 5,
   "metadata": {},
   "outputs": [],
   "source": [
    "tablesf2016 = list()\n",
    "x = 1\n",
    "while x < 155:\n",
    "    URL = 'https://www.runrocknroll.com/Events/Nashville/The-Races/Marathon/2016-Results?gender=&agegroup=&bib=&firstname=&lastname=&page={}'.format(x)\n",
    "    responsef2016 = requests.post(URL)\n",
    "    soup = BeautifulSoup(responsef2016.content, \"html.parser\")\n",
    "    marathon_tablef2016 = soup.find(attrs={\"class\": \"race-search-main\"}).find(\"table\")\n",
    "    tablesf2016.append(marathon_tablef2016)\n",
    "    x += 1"
   ]
  },
  {
   "cell_type": "code",
   "execution_count": null,
   "metadata": {},
   "outputs": [],
   "source": [
    "dff2016 = pd.read_html(str(tablesf2016))\n",
    "dff2016 = pd.concat(dff2016)"
   ]
  },
  {
   "cell_type": "code",
   "execution_count": 47,
   "metadata": {},
   "outputs": [
    {
     "data": {
      "text/plain": [
       "99999    890\n",
       "983        1\n",
       "992        1\n",
       "991        1\n",
       "990        1\n",
       "        ... \n",
       "1970       1\n",
       "1969       1\n",
       "1968       1\n",
       "1967       1\n",
       "1          1\n",
       "Name: Overall, Length: 2953, dtype: int64"
      ]
     },
     "execution_count": 47,
     "metadata": {},
     "output_type": "execute_result"
    }
   ],
   "source": [
    "dff2016['Overall'].value_counts()"
   ]
  },
  {
   "cell_type": "code",
   "execution_count": 54,
   "metadata": {},
   "outputs": [
    {
     "name": "stdout",
     "output_type": "stream",
     "text": [
      "<class 'pandas.core.frame.DataFrame'>\n",
      "Int64Index: 3842 entries, 0 to 16\n",
      "Data columns (total 4 columns):\n",
      " #   Column   Non-Null Count  Dtype \n",
      "---  ------   --------------  ----- \n",
      " 0   Overall  3842 non-null   object\n",
      " 1   Bib      3842 non-null   object\n",
      " 2   Name     3842 non-null   object\n",
      " 3   Time     3842 non-null   object\n",
      "dtypes: object(4)\n",
      "memory usage: 150.1+ KB\n"
     ]
    },
    {
     "data": {
      "text/plain": [
       "23.165018219677254"
      ]
     },
     "execution_count": 54,
     "metadata": {},
     "output_type": "execute_result"
    }
   ],
   "source": [
    "dff2016.info()\n",
    "nofinf2016 = (890 / 3842) * 100\n",
    "nofinf2016"
   ]
  },
  {
   "cell_type": "markdown",
   "metadata": {},
   "source": [
    "### Half Marathon 2017"
   ]
  },
  {
   "cell_type": "code",
   "execution_count": 6,
   "metadata": {},
   "outputs": [],
   "source": [
    "tablesh2017 = list()\n",
    "x = 1\n",
    "while x < 893:\n",
    "    URL = 'https://www.runrocknroll.com/Events/Nashville/The-Races/Half-Marathon/2017-Results?gender=&agegroup=&bib=&firstname=&lastname=&page={}'.format(x)\n",
    "    responseh2017 = requests.post(URL)\n",
    "    soup = BeautifulSoup(responseh2017.content, \"html.parser\")\n",
    "    marathon_tableh2017 = soup.find(attrs={\"class\": \"race-search-main\"}).find(\"table\")\n",
    "    tablesh2017.append(marathon_tableh2017)\n",
    "    x += 1"
   ]
  },
  {
   "cell_type": "code",
   "execution_count": null,
   "metadata": {},
   "outputs": [],
   "source": [
    "dfh2017 = pd.read_html(str(tablesh2017))\n",
    "dfh2017 = pd.concat(dfh2017)"
   ]
  },
  {
   "cell_type": "code",
   "execution_count": 46,
   "metadata": {},
   "outputs": [
    {
     "data": {
      "text/plain": [
       "99999    4593\n",
       "5964        1\n",
       "5957        1\n",
       "5958        1\n",
       "5959        1\n",
       "         ... \n",
       "11911       1\n",
       "11910       1\n",
       "11909       1\n",
       "11908       1\n",
       "1           1\n",
       "Name: Overall, Length: 17700, dtype: int64"
      ]
     },
     "execution_count": 46,
     "metadata": {},
     "output_type": "execute_result"
    }
   ],
   "source": [
    "dfh2017['Overall'].value_counts()"
   ]
  },
  {
   "cell_type": "code",
   "execution_count": 57,
   "metadata": {},
   "outputs": [
    {
     "name": "stdout",
     "output_type": "stream",
     "text": [
      "<class 'pandas.core.frame.DataFrame'>\n",
      "Int64Index: 22292 entries, 0 to 16\n",
      "Data columns (total 4 columns):\n",
      " #   Column   Non-Null Count  Dtype \n",
      "---  ------   --------------  ----- \n",
      " 0   Overall  22292 non-null  object\n",
      " 1   Bib      22292 non-null  object\n",
      " 2   Name     22292 non-null  object\n",
      " 3   Time     22292 non-null  object\n",
      "dtypes: object(4)\n",
      "memory usage: 870.8+ KB\n"
     ]
    },
    {
     "data": {
      "text/plain": [
       "20.603804055266465"
      ]
     },
     "execution_count": 57,
     "metadata": {},
     "output_type": "execute_result"
    }
   ],
   "source": [
    "dfh2017.info()\n",
    "nofinh2017 = (4593 / 22292) * 100\n",
    "nofinh2017"
   ]
  },
  {
   "cell_type": "markdown",
   "metadata": {},
   "source": [
    "### Full Marathon 2017"
   ]
  },
  {
   "cell_type": "code",
   "execution_count": 8,
   "metadata": {},
   "outputs": [],
   "source": [
    "tablesf2017 = list()\n",
    "x = 1\n",
    "while x < 148:\n",
    "    URL = 'https://www.runrocknroll.com/Events/Nashville/The-Races/Marathon/2017-Results?gender=&agegroup=&bib=&firstname=&lastname=&page={}'.format(x)\n",
    "    responsef2017 = requests.post(URL)\n",
    "    soup = BeautifulSoup(responsef2017.content, \"html.parser\")\n",
    "    marathon_tablef2017 = soup.find(attrs={\"class\": \"race-search-main\"}).find(\"table\")\n",
    "    tablesf2017.append(marathon_tablef2017)\n",
    "    x += 1"
   ]
  },
  {
   "cell_type": "code",
   "execution_count": null,
   "metadata": {},
   "outputs": [],
   "source": [
    "dff2017 = pd.read_html(str(tablesf2017))\n",
    "dff2017 = pd.concat(dff2017)"
   ]
  },
  {
   "cell_type": "code",
   "execution_count": 45,
   "metadata": {},
   "outputs": [
    {
     "data": {
      "text/plain": [
       "99999    1185\n",
       "2047        1\n",
       "1220        1\n",
       "1232        1\n",
       "1230        1\n",
       "         ... \n",
       "2458        1\n",
       "409         1\n",
       "2456        1\n",
       "407         1\n",
       "2049        1\n",
       "Name: Overall, Length: 2467, dtype: int64"
      ]
     },
     "execution_count": 45,
     "metadata": {},
     "output_type": "execute_result"
    }
   ],
   "source": [
    "dff2017['Overall'].value_counts()"
   ]
  },
  {
   "cell_type": "code",
   "execution_count": 59,
   "metadata": {},
   "outputs": [
    {
     "name": "stdout",
     "output_type": "stream",
     "text": [
      "<class 'pandas.core.frame.DataFrame'>\n",
      "Int64Index: 3651 entries, 0 to 0\n",
      "Data columns (total 4 columns):\n",
      " #   Column   Non-Null Count  Dtype \n",
      "---  ------   --------------  ----- \n",
      " 0   Overall  3651 non-null   int64 \n",
      " 1   Bib      3651 non-null   int64 \n",
      " 2   Name     3651 non-null   object\n",
      " 3   Time     3651 non-null   object\n",
      "dtypes: int64(2), object(2)\n",
      "memory usage: 142.6+ KB\n"
     ]
    },
    {
     "data": {
      "text/plain": [
       "32.45686113393591"
      ]
     },
     "execution_count": 59,
     "metadata": {},
     "output_type": "execute_result"
    }
   ],
   "source": [
    "dff2017.info()\n",
    "nofinf2017 = (1185 / 3651) * 100\n",
    "nofinf2017"
   ]
  },
  {
   "cell_type": "markdown",
   "metadata": {},
   "source": [
    "### Half Marathon 2018"
   ]
  },
  {
   "cell_type": "code",
   "execution_count": 9,
   "metadata": {},
   "outputs": [],
   "source": [
    "tablesh2018 = list()\n",
    "x = 1\n",
    "while x < 599:\n",
    "    URL = 'https://www.runrocknroll.com/Events/Nashville/The-Races/Half-Marathon/2018-Results?gender=&agegroup=&bib=&firstname=&lastname=&page={}'.format(x)\n",
    "    responseh2018 = requests.post(URL)\n",
    "    soup = BeautifulSoup(responseh2018.content, \"html.parser\")\n",
    "    marathon_tableh2018 = soup.find(attrs={\"class\": \"race-search-main\"}).find(\"table\")\n",
    "    tablesh2018.append(marathon_tableh2018)\n",
    "    x += 1"
   ]
  },
  {
   "cell_type": "code",
   "execution_count": null,
   "metadata": {},
   "outputs": [],
   "source": [
    "dfh2018 = pd.read_html(str(tablesh2018))\n",
    "dfh2018 = pd.concat(dfh2018)"
   ]
  },
  {
   "cell_type": "code",
   "execution_count": 44,
   "metadata": {},
   "outputs": [
    {
     "data": {
      "text/plain": [
       "7180     12\n",
       "3911     11\n",
       "4989     11\n",
       "7479     10\n",
       "5631     10\n",
       "         ..\n",
       "13515     1\n",
       "7161      1\n",
       "1229      1\n",
       "11472     1\n",
       "10245     1\n",
       "Name: Overall, Length: 6337, dtype: int64"
      ]
     },
     "execution_count": 44,
     "metadata": {},
     "output_type": "execute_result"
    }
   ],
   "source": [
    "dfh2018['Overall'].value_counts()"
   ]
  },
  {
   "cell_type": "code",
   "execution_count": 60,
   "metadata": {},
   "outputs": [
    {
     "name": "stdout",
     "output_type": "stream",
     "text": [
      "<class 'pandas.core.frame.DataFrame'>\n",
      "Int64Index: 14940 entries, 0 to 14\n",
      "Data columns (total 4 columns):\n",
      " #   Column   Non-Null Count  Dtype \n",
      "---  ------   --------------  ----- \n",
      " 0   Overall  14940 non-null  int64 \n",
      " 1   Bib      14940 non-null  int64 \n",
      " 2   Name     14940 non-null  object\n",
      " 3   Time     14940 non-null  object\n",
      "dtypes: int64(2), object(2)\n",
      "memory usage: 583.6+ KB\n"
     ]
    }
   ],
   "source": [
    "dfh2018.info()\n",
    "### probable data integrity issue"
   ]
  },
  {
   "cell_type": "markdown",
   "metadata": {},
   "source": [
    "### Full Marathon 2018"
   ]
  },
  {
   "cell_type": "code",
   "execution_count": 10,
   "metadata": {},
   "outputs": [],
   "source": [
    "tablesf2018 = list()\n",
    "x = 1\n",
    "while x < 86:\n",
    "    URL = 'https://www.runrocknroll.com/Events/Nashville/The-Races/Marathon/2018-Results?gender=&agegroup=&bib=&firstname=&lastname=&page={}'.format(x)\n",
    "    responsef2018 = requests.post(URL)\n",
    "    soup = BeautifulSoup(responsef2018.content, \"html.parser\")\n",
    "    marathon_tablef2018 = soup.find(attrs={\"class\": \"race-search-main\"}).find(\"table\")\n",
    "    tablesf2018.append(marathon_tablef2018)\n",
    "    x += 1"
   ]
  },
  {
   "cell_type": "code",
   "execution_count": 40,
   "metadata": {},
   "outputs": [
    {
     "data": {
      "text/plain": [
       "99999    8\n",
       "776      5\n",
       "1560     4\n",
       "693      4\n",
       "1491     4\n",
       "        ..\n",
       "455      1\n",
       "457      1\n",
       "459      1\n",
       "461      1\n",
       "2049     1\n",
       "Name: Overall, Length: 1816, dtype: int64"
      ]
     },
     "execution_count": 40,
     "metadata": {},
     "output_type": "execute_result"
    }
   ],
   "source": [
    "dff2018 = pd.read_html(str(tablesf2018))\n",
    "dff2018 = pd.concat(dff2018)\n",
    "dff2018['Overall'].value_counts()"
   ]
  },
  {
   "cell_type": "code",
   "execution_count": 62,
   "metadata": {},
   "outputs": [
    {
     "name": "stdout",
     "output_type": "stream",
     "text": [
      "<class 'pandas.core.frame.DataFrame'>\n",
      "Int64Index: 2115 entries, 0 to 14\n",
      "Data columns (total 4 columns):\n",
      " #   Column   Non-Null Count  Dtype \n",
      "---  ------   --------------  ----- \n",
      " 0   Overall  2115 non-null   int64 \n",
      " 1   Bib      2115 non-null   int64 \n",
      " 2   Name     2115 non-null   object\n",
      " 3   Time     2115 non-null   object\n",
      "dtypes: int64(2), object(2)\n",
      "memory usage: 82.6+ KB\n"
     ]
    },
    {
     "data": {
      "text/plain": [
       "0.37825059101654845"
      ]
     },
     "execution_count": 62,
     "metadata": {},
     "output_type": "execute_result"
    }
   ],
   "source": [
    "dff2018.info()\n",
    "nofinf2018 = (8 / 2115) * 100\n",
    "nofinf2018"
   ]
  },
  {
   "cell_type": "markdown",
   "metadata": {},
   "source": [
    "### Half Marathon 2019"
   ]
  },
  {
   "cell_type": "code",
   "execution_count": 11,
   "metadata": {},
   "outputs": [],
   "source": [
    "tablesh2019 = list()\n",
    "x = 1\n",
    "while x < 691:\n",
    "    URL = 'https://www.runrocknroll.com/Events/Nashville/The-Races/Half-Marathon/2019-Results?gender=&agegroup=&bib=&firstname=&lastname=&page={}'.format(x)\n",
    "    responseh2019 = requests.post(URL)\n",
    "    soup = BeautifulSoup(responseh2019.content, \"html.parser\")\n",
    "    marathon_tableh2019 = soup.find(attrs={\"class\": \"race-search-main\"}).find(\"table\")\n",
    "    tablesh2019.append(marathon_tableh2019)\n",
    "    x += 1"
   ]
  },
  {
   "cell_type": "code",
   "execution_count": 41,
   "metadata": {},
   "outputs": [
    {
     "ename": "KeyboardInterrupt",
     "evalue": "",
     "output_type": "error",
     "traceback": [
      "\u001b[0;31m---------------------------------------------------------------------------\u001b[0m",
      "\u001b[0;31mKeyboardInterrupt\u001b[0m                         Traceback (most recent call last)",
      "\u001b[0;32m<ipython-input-41-39f87386156c>\u001b[0m in \u001b[0;36m<module>\u001b[0;34m\u001b[0m\n\u001b[0;32m----> 1\u001b[0;31m \u001b[0mdfh2019\u001b[0m \u001b[0;34m=\u001b[0m \u001b[0mpd\u001b[0m\u001b[0;34m.\u001b[0m\u001b[0mread_html\u001b[0m\u001b[0;34m(\u001b[0m\u001b[0mstr\u001b[0m\u001b[0;34m(\u001b[0m\u001b[0mtablesh2019\u001b[0m\u001b[0;34m)\u001b[0m\u001b[0;34m)\u001b[0m\u001b[0;34m\u001b[0m\u001b[0;34m\u001b[0m\u001b[0m\n\u001b[0m\u001b[1;32m      2\u001b[0m \u001b[0mdfh2019\u001b[0m \u001b[0;34m=\u001b[0m \u001b[0mpd\u001b[0m\u001b[0;34m.\u001b[0m\u001b[0mconcat\u001b[0m\u001b[0;34m(\u001b[0m\u001b[0mdfh2019\u001b[0m\u001b[0;34m)\u001b[0m\u001b[0;34m\u001b[0m\u001b[0;34m\u001b[0m\u001b[0m\n\u001b[1;32m      3\u001b[0m \u001b[0mdfh2019\u001b[0m\u001b[0;34m[\u001b[0m\u001b[0;34m'Overall'\u001b[0m\u001b[0;34m]\u001b[0m\u001b[0;34m.\u001b[0m\u001b[0mvalue_counts\u001b[0m\u001b[0;34m(\u001b[0m\u001b[0;34m)\u001b[0m\u001b[0;34m\u001b[0m\u001b[0;34m\u001b[0m\u001b[0m\n",
      "\u001b[0;32m~/opt/anaconda3/lib/python3.8/site-packages/pandas/io/html.py\u001b[0m in \u001b[0;36mread_html\u001b[0;34m(io, match, flavor, header, index_col, skiprows, attrs, parse_dates, thousands, encoding, decimal, converters, na_values, keep_default_na, displayed_only)\u001b[0m\n\u001b[1;32m   1083\u001b[0m         )\n\u001b[1;32m   1084\u001b[0m     \u001b[0mvalidate_header_arg\u001b[0m\u001b[0;34m(\u001b[0m\u001b[0mheader\u001b[0m\u001b[0;34m)\u001b[0m\u001b[0;34m\u001b[0m\u001b[0;34m\u001b[0m\u001b[0m\n\u001b[0;32m-> 1085\u001b[0;31m     return _parse(\n\u001b[0m\u001b[1;32m   1086\u001b[0m         \u001b[0mflavor\u001b[0m\u001b[0;34m=\u001b[0m\u001b[0mflavor\u001b[0m\u001b[0;34m,\u001b[0m\u001b[0;34m\u001b[0m\u001b[0;34m\u001b[0m\u001b[0m\n\u001b[1;32m   1087\u001b[0m         \u001b[0mio\u001b[0m\u001b[0;34m=\u001b[0m\u001b[0mio\u001b[0m\u001b[0;34m,\u001b[0m\u001b[0;34m\u001b[0m\u001b[0;34m\u001b[0m\u001b[0m\n",
      "\u001b[0;32m~/opt/anaconda3/lib/python3.8/site-packages/pandas/io/html.py\u001b[0m in \u001b[0;36m_parse\u001b[0;34m(flavor, io, match, attrs, encoding, displayed_only, **kwargs)\u001b[0m\n\u001b[1;32m    893\u001b[0m \u001b[0;34m\u001b[0m\u001b[0m\n\u001b[1;32m    894\u001b[0m         \u001b[0;32mtry\u001b[0m\u001b[0;34m:\u001b[0m\u001b[0;34m\u001b[0m\u001b[0;34m\u001b[0m\u001b[0m\n\u001b[0;32m--> 895\u001b[0;31m             \u001b[0mtables\u001b[0m \u001b[0;34m=\u001b[0m \u001b[0mp\u001b[0m\u001b[0;34m.\u001b[0m\u001b[0mparse_tables\u001b[0m\u001b[0;34m(\u001b[0m\u001b[0;34m)\u001b[0m\u001b[0;34m\u001b[0m\u001b[0;34m\u001b[0m\u001b[0m\n\u001b[0m\u001b[1;32m    896\u001b[0m         \u001b[0;32mexcept\u001b[0m \u001b[0mValueError\u001b[0m \u001b[0;32mas\u001b[0m \u001b[0mcaught\u001b[0m\u001b[0;34m:\u001b[0m\u001b[0;34m\u001b[0m\u001b[0;34m\u001b[0m\u001b[0m\n\u001b[1;32m    897\u001b[0m             \u001b[0;31m# if `io` is an io-like object, check if it's seekable\u001b[0m\u001b[0;34m\u001b[0m\u001b[0;34m\u001b[0m\u001b[0;34m\u001b[0m\u001b[0m\n",
      "\u001b[0;32m~/opt/anaconda3/lib/python3.8/site-packages/pandas/io/html.py\u001b[0m in \u001b[0;36mparse_tables\u001b[0;34m(self)\u001b[0m\n\u001b[1;32m    211\u001b[0m         \u001b[0mlist\u001b[0m \u001b[0mof\u001b[0m \u001b[0mparsed\u001b[0m \u001b[0;34m(\u001b[0m\u001b[0mheader\u001b[0m\u001b[0;34m,\u001b[0m \u001b[0mbody\u001b[0m\u001b[0;34m,\u001b[0m \u001b[0mfooter\u001b[0m\u001b[0;34m)\u001b[0m \u001b[0mtuples\u001b[0m \u001b[0;32mfrom\u001b[0m \u001b[0mtables\u001b[0m\u001b[0;34m.\u001b[0m\u001b[0;34m\u001b[0m\u001b[0;34m\u001b[0m\u001b[0m\n\u001b[1;32m    212\u001b[0m         \"\"\"\n\u001b[0;32m--> 213\u001b[0;31m         \u001b[0mtables\u001b[0m \u001b[0;34m=\u001b[0m \u001b[0mself\u001b[0m\u001b[0;34m.\u001b[0m\u001b[0m_parse_tables\u001b[0m\u001b[0;34m(\u001b[0m\u001b[0mself\u001b[0m\u001b[0;34m.\u001b[0m\u001b[0m_build_doc\u001b[0m\u001b[0;34m(\u001b[0m\u001b[0;34m)\u001b[0m\u001b[0;34m,\u001b[0m \u001b[0mself\u001b[0m\u001b[0;34m.\u001b[0m\u001b[0mmatch\u001b[0m\u001b[0;34m,\u001b[0m \u001b[0mself\u001b[0m\u001b[0;34m.\u001b[0m\u001b[0mattrs\u001b[0m\u001b[0;34m)\u001b[0m\u001b[0;34m\u001b[0m\u001b[0;34m\u001b[0m\u001b[0m\n\u001b[0m\u001b[1;32m    214\u001b[0m         \u001b[0;32mreturn\u001b[0m \u001b[0;34m(\u001b[0m\u001b[0mself\u001b[0m\u001b[0;34m.\u001b[0m\u001b[0m_parse_thead_tbody_tfoot\u001b[0m\u001b[0;34m(\u001b[0m\u001b[0mtable\u001b[0m\u001b[0;34m)\u001b[0m \u001b[0;32mfor\u001b[0m \u001b[0mtable\u001b[0m \u001b[0;32min\u001b[0m \u001b[0mtables\u001b[0m\u001b[0;34m)\u001b[0m\u001b[0;34m\u001b[0m\u001b[0;34m\u001b[0m\u001b[0m\n\u001b[1;32m    215\u001b[0m \u001b[0;34m\u001b[0m\u001b[0m\n",
      "\u001b[0;32m~/opt/anaconda3/lib/python3.8/site-packages/pandas/io/html.py\u001b[0m in \u001b[0;36m_parse_tables\u001b[0;34m(self, doc, match, kwargs)\u001b[0m\n\u001b[1;32m    670\u001b[0m             \u001b[0mxpath_expr\u001b[0m \u001b[0;34m+=\u001b[0m \u001b[0m_build_xpath_expr\u001b[0m\u001b[0;34m(\u001b[0m\u001b[0mkwargs\u001b[0m\u001b[0;34m)\u001b[0m\u001b[0;34m\u001b[0m\u001b[0;34m\u001b[0m\u001b[0m\n\u001b[1;32m    671\u001b[0m \u001b[0;34m\u001b[0m\u001b[0m\n\u001b[0;32m--> 672\u001b[0;31m         \u001b[0mtables\u001b[0m \u001b[0;34m=\u001b[0m \u001b[0mdoc\u001b[0m\u001b[0;34m.\u001b[0m\u001b[0mxpath\u001b[0m\u001b[0;34m(\u001b[0m\u001b[0mxpath_expr\u001b[0m\u001b[0;34m,\u001b[0m \u001b[0mnamespaces\u001b[0m\u001b[0;34m=\u001b[0m\u001b[0m_re_namespace\u001b[0m\u001b[0;34m)\u001b[0m\u001b[0;34m\u001b[0m\u001b[0;34m\u001b[0m\u001b[0m\n\u001b[0m\u001b[1;32m    673\u001b[0m \u001b[0;34m\u001b[0m\u001b[0m\n\u001b[1;32m    674\u001b[0m         \u001b[0mtables\u001b[0m \u001b[0;34m=\u001b[0m \u001b[0mself\u001b[0m\u001b[0;34m.\u001b[0m\u001b[0m_handle_hidden_tables\u001b[0m\u001b[0;34m(\u001b[0m\u001b[0mtables\u001b[0m\u001b[0;34m,\u001b[0m \u001b[0;34m\"attrib\"\u001b[0m\u001b[0;34m)\u001b[0m\u001b[0;34m\u001b[0m\u001b[0;34m\u001b[0m\u001b[0m\n",
      "\u001b[0;32msrc/lxml/etree.pyx\u001b[0m in \u001b[0;36mlxml.etree._Element.xpath\u001b[0;34m()\u001b[0m\n",
      "\u001b[0;32msrc/lxml/xpath.pxi\u001b[0m in \u001b[0;36mlxml.etree.XPathElementEvaluator.__call__\u001b[0;34m()\u001b[0m\n",
      "\u001b[0;32msrc/lxml/xpath.pxi\u001b[0m in \u001b[0;36mlxml.etree._XPathEvaluatorBase._handle_result\u001b[0;34m()\u001b[0m\n",
      "\u001b[0;32msrc/lxml/etree.pyx\u001b[0m in \u001b[0;36mlxml.etree._ExceptionContext._raise_if_stored\u001b[0;34m()\u001b[0m\n",
      "\u001b[0;32msrc/lxml/extensions.pxi\u001b[0m in \u001b[0;36mlxml.etree._extension_function_call\u001b[0;34m()\u001b[0m\n",
      "\u001b[0;32msrc/lxml/extensions.pxi\u001b[0m in \u001b[0;36mlxml.etree._unwrapXPathObject\u001b[0;34m()\u001b[0m\n",
      "\u001b[0;32msrc/lxml/extensions.pxi\u001b[0m in \u001b[0;36mlxml.etree._elementStringResultFactory\u001b[0;34m()\u001b[0m\n",
      "\u001b[0;31mKeyboardInterrupt\u001b[0m: "
     ]
    }
   ],
   "source": [
    "dfh2019 = pd.read_html(str(tablesh2019))\n",
    "dfh2019 = pd.concat(dfh2019)"
   ]
  },
  {
   "cell_type": "code",
   "execution_count": 43,
   "metadata": {},
   "outputs": [
    {
     "data": {
      "text/plain": [
       "99999    3530\n",
       "7628        2\n",
       "1561        2\n",
       "7706        2\n",
       "4363        2\n",
       "         ... \n",
       "3339        1\n",
       "1290        1\n",
       "7433        1\n",
       "5384        1\n",
       "2049        1\n",
       "Name: Overall, Length: 13695, dtype: int64"
      ]
     },
     "execution_count": 43,
     "metadata": {},
     "output_type": "execute_result"
    }
   ],
   "source": [
    "dfh2019['Overall'].value_counts()"
   ]
  },
  {
   "cell_type": "code",
   "execution_count": 64,
   "metadata": {},
   "outputs": [
    {
     "name": "stdout",
     "output_type": "stream",
     "text": [
      "<class 'pandas.core.frame.DataFrame'>\n",
      "Int64Index: 17236 entries, 0 to 10\n",
      "Data columns (total 4 columns):\n",
      " #   Column   Non-Null Count  Dtype \n",
      "---  ------   --------------  ----- \n",
      " 0   Overall  17236 non-null  int64 \n",
      " 1   Bib      17236 non-null  int64 \n",
      " 2   Name     17236 non-null  object\n",
      " 3   Time     17236 non-null  object\n",
      "dtypes: int64(2), object(2)\n",
      "memory usage: 673.3+ KB\n"
     ]
    },
    {
     "data": {
      "text/plain": [
       "20.48038988164307"
      ]
     },
     "execution_count": 64,
     "metadata": {},
     "output_type": "execute_result"
    }
   ],
   "source": [
    "dfh2019.info()\n",
    "nofinh2019 = (3530 / 17236) * 100\n",
    "nofinh2019"
   ]
  },
  {
   "cell_type": "markdown",
   "metadata": {},
   "source": [
    "### Full Marathon 2019"
   ]
  },
  {
   "cell_type": "code",
   "execution_count": 28,
   "metadata": {},
   "outputs": [],
   "source": [
    "tablesf2019 = list()\n",
    "x = 1\n",
    "while x < 114:\n",
    "    URL = 'https://www.runrocknroll.com/Events/Nashville/The-Races/Marathon/2019-Results?gender=&agegroup=&bib=&firstname=&lastname=&page={}'.format(x)\n",
    "    responsef2019 = requests.post(URL)\n",
    "    soup = BeautifulSoup(responsef2019.content, \"html.parser\")\n",
    "    marathon_tablef2019 = soup.find(attrs={\"class\": \"race-search-main\"}).find(\"table\")\n",
    "    tablesf2019.append(marathon_tablef2019)\n",
    "    x += 1"
   ]
  },
  {
   "cell_type": "code",
   "execution_count": null,
   "metadata": {},
   "outputs": [],
   "source": [
    "dff2019 = pd.read_html(str(tablesf2019))\n",
    "dff2019 = pd.concat(dff2019)\n"
   ]
  },
  {
   "cell_type": "code",
   "execution_count": 42,
   "metadata": {},
   "outputs": [
    {
     "data": {
      "text/plain": [
       "99999    786\n",
       "2025       1\n",
       "1330       1\n",
       "1334       1\n",
       "1336       1\n",
       "        ... \n",
       "683        1\n",
       "685        1\n",
       "687        1\n",
       "689        1\n",
       "2          1\n",
       "Name: Overall, Length: 2026, dtype: int64"
      ]
     },
     "execution_count": 42,
     "metadata": {},
     "output_type": "execute_result"
    }
   ],
   "source": [
    "dff2019['Overall'].value_counts()"
   ]
  },
  {
   "cell_type": "code",
   "execution_count": 66,
   "metadata": {},
   "outputs": [
    {
     "name": "stdout",
     "output_type": "stream",
     "text": [
      "<class 'pandas.core.frame.DataFrame'>\n",
      "Int64Index: 2811 entries, 0 to 10\n",
      "Data columns (total 4 columns):\n",
      " #   Column   Non-Null Count  Dtype \n",
      "---  ------   --------------  ----- \n",
      " 0   Overall  2811 non-null   int64 \n",
      " 1   Bib      2811 non-null   int64 \n",
      " 2   Name     2811 non-null   object\n",
      " 3   Time     2811 non-null   object\n",
      "dtypes: int64(2), object(2)\n",
      "memory usage: 109.8+ KB\n"
     ]
    },
    {
     "data": {
      "text/plain": [
       "27.961579509071505"
      ]
     },
     "execution_count": 66,
     "metadata": {},
     "output_type": "execute_result"
    }
   ],
   "source": [
    "dff2019.info()\n",
    "nofinf2019 = (786 / 2811)* 100\n",
    "nofinf2019"
   ]
  },
  {
   "cell_type": "markdown",
   "metadata": {},
   "source": [
    "### Race dropout rates"
   ]
  },
  {
   "cell_type": "code",
   "execution_count": 77,
   "metadata": {},
   "outputs": [],
   "source": [
    "half_marathons = {'year' : ['2016', '2017', '2018', '2019'],\n",
    "                   'pct' : [nofinh2016, nofinh2017, 0, nofinh2019]}\n",
    "\n",
    "df_hm = pd.DataFrame(half_marathons, columns = ['year', 'pct'])\n",
    "\n",
    "full_marathons = {'year' : ['2016', '2017', '2018', '2019'],\n",
    "                   'pct' : [nofinf2016, nofinf2017, nofinf2018, nofinf2019]}\n",
    "\n",
    "df_fm = pd.DataFrame(full_marathons, columns = ['year', 'pct'])"
   ]
  },
  {
   "cell_type": "code",
   "execution_count": 82,
   "metadata": {},
   "outputs": [
    {
     "data": {
      "text/plain": [
       "Text(0, 0.5, 'percent')"
      ]
     },
     "execution_count": 82,
     "metadata": {},
     "output_type": "execute_result"
    },
    {
     "data": {
      "image/png": "[encoded data removed]",
      "text/plain": [
       "<Figure size 432x288 with 1 Axes>"
      ]
     },
     "metadata": {
      "needs_background": "light"
     },
     "output_type": "display_data"
    }
   ],
   "source": [
    "plt.plot(half_marathons['year'], half_marathons['pct'])\n",
    "plt.title('Half Marathon Dropout Rates')\n",
    "plt.xlabel('year')\n",
    "plt.ylabel('percent')"
   ]
  },
  {
   "cell_type": "code",
   "execution_count": 83,
   "metadata": {},
   "outputs": [
    {
     "data": {
      "text/plain": [
       "Text(0, 0.5, 'percent')"
      ]
     },
     "execution_count": 83,
     "metadata": {},
     "output_type": "execute_result"
    },
    {
     "data": {
      "image/png": "[encoded data removed]",
      "text/plain": [
       "<Figure size 432x288 with 1 Axes>"
      ]
     },
     "metadata": {
      "needs_background": "light"
     },
     "output_type": "display_data"
    }
   ],
   "source": [
    "plt.plot(full_marathons['year'], full_marathons['pct'])\n",
    "plt.title('Full Marathon Dropout Rates')\n",
    "plt.xlabel('year')\n",
    "plt.ylabel('percent')"
   ]
  },
  {
   "cell_type": "code",
   "execution_count": null,
   "metadata": {},
   "outputs": [],
   "source": []
  }
 ],
 "metadata": {
  "kernelspec": {
   "display_name": "Python 3",
   "language": "python",
   "name": "python3"
  },
  "language_info": {
   "codemirror_mode": {
    "name": "ipython",
    "version": 3
   },
   "file_extension": ".py",
   "mimetype": "text/x-python",
   "name": "python",
   "nbconvert_exporter": "python",
   "pygments_lexer": "ipython3",
   "version": "3.8.3"
  }
 },
 "nbformat": 4,
 "nbformat_minor": 4
}
